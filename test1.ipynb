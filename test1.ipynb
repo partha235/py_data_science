{
 "cells": [
  {
   "cell_type": "markdown",
   "metadata": {},
   "source": [
    "### patient detail"
   ]
  },
  {
   "cell_type": "code",
   "execution_count": 1,
   "metadata": {
    "metadata": {}
   },
   "outputs": [],
   "source": [
    "import pandas as pd\n",
    "import numpy as np"
   ]
  },
  {
   "cell_type": "code",
   "execution_count": 2,
   "metadata": {
    "metadata": {}
   },
   "outputs": [
    {
     "data": {
      "text/plain": [
       "['ArrowDtype',\n",
       " 'BooleanDtype',\n",
       " 'Categorical',\n",
       " 'CategoricalDtype',\n",
       " 'CategoricalIndex',\n",
       " 'DataFrame',\n",
       " 'DateOffset',\n",
       " 'DatetimeIndex',\n",
       " 'DatetimeTZDtype',\n",
       " 'ExcelFile',\n",
       " 'ExcelWriter',\n",
       " 'Flags',\n",
       " 'Float32Dtype',\n",
       " 'Float64Dtype',\n",
       " 'Float64Index',\n",
       " 'Grouper',\n",
       " 'HDFStore',\n",
       " 'Index',\n",
       " 'IndexSlice',\n",
       " 'Int16Dtype',\n",
       " 'Int32Dtype',\n",
       " 'Int64Dtype',\n",
       " 'Int64Index',\n",
       " 'Int8Dtype',\n",
       " 'Interval',\n",
       " 'IntervalDtype',\n",
       " 'IntervalIndex',\n",
       " 'MultiIndex',\n",
       " 'NA',\n",
       " 'NaT',\n",
       " 'NamedAgg',\n",
       " 'Period',\n",
       " 'PeriodDtype',\n",
       " 'PeriodIndex',\n",
       " 'RangeIndex',\n",
       " 'Series',\n",
       " 'SparseDtype',\n",
       " 'StringDtype',\n",
       " 'Timedelta',\n",
       " 'TimedeltaIndex',\n",
       " 'Timestamp',\n",
       " 'UInt16Dtype',\n",
       " 'UInt32Dtype',\n",
       " 'UInt64Dtype',\n",
       " 'UInt64Index',\n",
       " 'UInt8Dtype',\n",
       " '__all__',\n",
       " '__builtins__',\n",
       " '__cached__',\n",
       " '__deprecated_num_index_names',\n",
       " '__dir__',\n",
       " '__doc__',\n",
       " '__docformat__',\n",
       " '__file__',\n",
       " '__getattr__',\n",
       " '__git_version__',\n",
       " '__loader__',\n",
       " '__name__',\n",
       " '__package__',\n",
       " '__path__',\n",
       " '__spec__',\n",
       " '__version__',\n",
       " '_config',\n",
       " '_is_numpy_dev',\n",
       " '_libs',\n",
       " '_testing',\n",
       " '_typing',\n",
       " '_version',\n",
       " 'annotations',\n",
       " 'api',\n",
       " 'array',\n",
       " 'arrays',\n",
       " 'bdate_range',\n",
       " 'compat',\n",
       " 'concat',\n",
       " 'core',\n",
       " 'crosstab',\n",
       " 'cut',\n",
       " 'date_range',\n",
       " 'describe_option',\n",
       " 'errors',\n",
       " 'eval',\n",
       " 'factorize',\n",
       " 'from_dummies',\n",
       " 'get_dummies',\n",
       " 'get_option',\n",
       " 'infer_freq',\n",
       " 'interval_range',\n",
       " 'io',\n",
       " 'isna',\n",
       " 'isnull',\n",
       " 'json_normalize',\n",
       " 'lreshape',\n",
       " 'melt',\n",
       " 'merge',\n",
       " 'merge_asof',\n",
       " 'merge_ordered',\n",
       " 'notna',\n",
       " 'notnull',\n",
       " 'offsets',\n",
       " 'option_context',\n",
       " 'options',\n",
       " 'pandas',\n",
       " 'period_range',\n",
       " 'pivot',\n",
       " 'pivot_table',\n",
       " 'plotting',\n",
       " 'qcut',\n",
       " 'read_clipboard',\n",
       " 'read_csv',\n",
       " 'read_excel',\n",
       " 'read_feather',\n",
       " 'read_fwf',\n",
       " 'read_gbq',\n",
       " 'read_hdf',\n",
       " 'read_html',\n",
       " 'read_json',\n",
       " 'read_orc',\n",
       " 'read_parquet',\n",
       " 'read_pickle',\n",
       " 'read_sas',\n",
       " 'read_spss',\n",
       " 'read_sql',\n",
       " 'read_sql_query',\n",
       " 'read_sql_table',\n",
       " 'read_stata',\n",
       " 'read_table',\n",
       " 'read_xml',\n",
       " 'reset_option',\n",
       " 'set_eng_float_format',\n",
       " 'set_option',\n",
       " 'show_versions',\n",
       " 'test',\n",
       " 'testing',\n",
       " 'timedelta_range',\n",
       " 'to_datetime',\n",
       " 'to_numeric',\n",
       " 'to_pickle',\n",
       " 'to_timedelta',\n",
       " 'tseries',\n",
       " 'unique',\n",
       " 'util',\n",
       " 'value_counts',\n",
       " 'wide_to_long']"
      ]
     },
     "execution_count": 2,
     "metadata": {},
     "output_type": "execute_result"
    }
   ],
   "source": [
    "dir(pd)"
   ]
  },
  {
   "cell_type": "code",
   "execution_count": 3,
   "metadata": {
    "metadata": {}
   },
   "outputs": [
    {
     "name": "stdout",
     "output_type": "stream",
     "text": [
      "x1=  [46 25 12  8  6 36 43  1 23  8]\n"
     ]
    }
   ],
   "source": [
    "x1=np.random.randint(1,50,10)\n",
    "print(\"x1= \",x1)"
   ]
  },
  {
   "cell_type": "code",
   "execution_count": 4,
   "metadata": {
    "metadata": {}
   },
   "outputs": [],
   "source": [
    "p1=np.random.randint(25,100,5)\n",
    "p2=np.random.randint(25,100,5)\n",
    "p3=np.random.randint(25,100,5)\n",
    "p4=np.random.randint(25,100,5)\n",
    "p5=np.random.randint(25,100,5)"
   ]
  },
  {
   "cell_type": "code",
   "execution_count": 5,
   "metadata": {
    "metadata": {}
   },
   "outputs": [],
   "source": [
    "ds1=pd.DataFrame({\"person_1\":p1,\"person_2\":p2,\"person_3\":p3,\"person_4\":p4,\"person_5\":p5},index=[\"tamil\",\"eng\",\"math\",\"science\",\"social\"])"
   ]
  },
  {
   "cell_type": "code",
   "execution_count": 6,
   "metadata": {
    "metadata": {}
   },
   "outputs": [
    {
     "data": {
      "text/html": [
       "<div>\n",
       "<style scoped>\n",
       "    .dataframe tbody tr th:only-of-type {\n",
       "        vertical-align: middle;\n",
       "    }\n",
       "\n",
       "    .dataframe tbody tr th {\n",
       "        vertical-align: top;\n",
       "    }\n",
       "\n",
       "    .dataframe thead th {\n",
       "        text-align: right;\n",
       "    }\n",
       "</style>\n",
       "<table border=\"1\" class=\"dataframe\">\n",
       "  <thead>\n",
       "    <tr style=\"text-align: right;\">\n",
       "      <th></th>\n",
       "      <th>person_1</th>\n",
       "      <th>person_2</th>\n",
       "      <th>person_3</th>\n",
       "      <th>person_4</th>\n",
       "      <th>person_5</th>\n",
       "    </tr>\n",
       "  </thead>\n",
       "  <tbody>\n",
       "    <tr>\n",
       "      <th>tamil</th>\n",
       "      <td>29</td>\n",
       "      <td>83</td>\n",
       "      <td>68</td>\n",
       "      <td>96</td>\n",
       "      <td>78</td>\n",
       "    </tr>\n",
       "    <tr>\n",
       "      <th>eng</th>\n",
       "      <td>77</td>\n",
       "      <td>55</td>\n",
       "      <td>65</td>\n",
       "      <td>33</td>\n",
       "      <td>45</td>\n",
       "    </tr>\n",
       "    <tr>\n",
       "      <th>math</th>\n",
       "      <td>58</td>\n",
       "      <td>97</td>\n",
       "      <td>65</td>\n",
       "      <td>36</td>\n",
       "      <td>63</td>\n",
       "    </tr>\n",
       "    <tr>\n",
       "      <th>science</th>\n",
       "      <td>47</td>\n",
       "      <td>27</td>\n",
       "      <td>68</td>\n",
       "      <td>63</td>\n",
       "      <td>75</td>\n",
       "    </tr>\n",
       "    <tr>\n",
       "      <th>social</th>\n",
       "      <td>44</td>\n",
       "      <td>82</td>\n",
       "      <td>68</td>\n",
       "      <td>85</td>\n",
       "      <td>74</td>\n",
       "    </tr>\n",
       "  </tbody>\n",
       "</table>\n",
       "</div>"
      ],
      "text/plain": [
       "         person_1  person_2  person_3  person_4  person_5\n",
       "tamil          29        83        68        96        78\n",
       "eng            77        55        65        33        45\n",
       "math           58        97        65        36        63\n",
       "science        47        27        68        63        75\n",
       "social         44        82        68        85        74"
      ]
     },
     "execution_count": 6,
     "metadata": {},
     "output_type": "execute_result"
    }
   ],
   "source": [
    "ds1"
   ]
  },
  {
   "cell_type": "code",
   "execution_count": 7,
   "metadata": {
    "metadata": {}
   },
   "outputs": [
    {
     "data": {
      "text/plain": [
       "tamil      83\n",
       "eng        55\n",
       "math       97\n",
       "science    27\n",
       "social     82\n",
       "Name: person_2, dtype: int64"
      ]
     },
     "execution_count": 7,
     "metadata": {},
     "output_type": "execute_result"
    }
   ],
   "source": [
    "ds1[\"person_2\"]"
   ]
  },
  {
   "cell_type": "code",
   "execution_count": 8,
   "metadata": {
    "metadata": {}
   },
   "outputs": [
    {
     "data": {
      "text/plain": [
       "344"
      ]
     },
     "execution_count": 8,
     "metadata": {},
     "output_type": "execute_result"
    }
   ],
   "source": [
    "ds1[\"person_2\"].sum()"
   ]
  },
  {
   "cell_type": "code",
   "execution_count": 9,
   "metadata": {
    "metadata": {}
   },
   "outputs": [],
   "source": [
    "ds1[\"person_2\"][3]=41"
   ]
  },
  {
   "cell_type": "code",
   "execution_count": 10,
   "metadata": {
    "metadata": {}
   },
   "outputs": [
    {
     "data": {
      "text/html": [
       "<div>\n",
       "<style scoped>\n",
       "    .dataframe tbody tr th:only-of-type {\n",
       "        vertical-align: middle;\n",
       "    }\n",
       "\n",
       "    .dataframe tbody tr th {\n",
       "        vertical-align: top;\n",
       "    }\n",
       "\n",
       "    .dataframe thead th {\n",
       "        text-align: right;\n",
       "    }\n",
       "</style>\n",
       "<table border=\"1\" class=\"dataframe\">\n",
       "  <thead>\n",
       "    <tr style=\"text-align: right;\">\n",
       "      <th></th>\n",
       "      <th>person_1</th>\n",
       "      <th>person_2</th>\n",
       "      <th>person_3</th>\n",
       "      <th>person_4</th>\n",
       "      <th>person_5</th>\n",
       "    </tr>\n",
       "  </thead>\n",
       "  <tbody>\n",
       "    <tr>\n",
       "      <th>tamil</th>\n",
       "      <td>29</td>\n",
       "      <td>83</td>\n",
       "      <td>68</td>\n",
       "      <td>96</td>\n",
       "      <td>78</td>\n",
       "    </tr>\n",
       "    <tr>\n",
       "      <th>eng</th>\n",
       "      <td>77</td>\n",
       "      <td>55</td>\n",
       "      <td>65</td>\n",
       "      <td>33</td>\n",
       "      <td>45</td>\n",
       "    </tr>\n",
       "    <tr>\n",
       "      <th>math</th>\n",
       "      <td>58</td>\n",
       "      <td>97</td>\n",
       "      <td>65</td>\n",
       "      <td>36</td>\n",
       "      <td>63</td>\n",
       "    </tr>\n",
       "    <tr>\n",
       "      <th>science</th>\n",
       "      <td>47</td>\n",
       "      <td>41</td>\n",
       "      <td>68</td>\n",
       "      <td>63</td>\n",
       "      <td>75</td>\n",
       "    </tr>\n",
       "    <tr>\n",
       "      <th>social</th>\n",
       "      <td>44</td>\n",
       "      <td>82</td>\n",
       "      <td>68</td>\n",
       "      <td>85</td>\n",
       "      <td>74</td>\n",
       "    </tr>\n",
       "  </tbody>\n",
       "</table>\n",
       "</div>"
      ],
      "text/plain": [
       "         person_1  person_2  person_3  person_4  person_5\n",
       "tamil          29        83        68        96        78\n",
       "eng            77        55        65        33        45\n",
       "math           58        97        65        36        63\n",
       "science        47        41        68        63        75\n",
       "social         44        82        68        85        74"
      ]
     },
     "execution_count": 10,
     "metadata": {},
     "output_type": "execute_result"
    }
   ],
   "source": [
    "ds1"
   ]
  },
  {
   "cell_type": "code",
   "execution_count": 11,
   "metadata": {
    "metadata": {}
   },
   "outputs": [
    {
     "data": {
      "text/html": [
       "<div>\n",
       "<style scoped>\n",
       "    .dataframe tbody tr th:only-of-type {\n",
       "        vertical-align: middle;\n",
       "    }\n",
       "\n",
       "    .dataframe tbody tr th {\n",
       "        vertical-align: top;\n",
       "    }\n",
       "\n",
       "    .dataframe thead th {\n",
       "        text-align: right;\n",
       "    }\n",
       "</style>\n",
       "<table border=\"1\" class=\"dataframe\">\n",
       "  <thead>\n",
       "    <tr style=\"text-align: right;\">\n",
       "      <th></th>\n",
       "      <th>person_1</th>\n",
       "      <th>person_2</th>\n",
       "      <th>person_3</th>\n",
       "      <th>person_4</th>\n",
       "      <th>person_5</th>\n",
       "    </tr>\n",
       "  </thead>\n",
       "  <tbody>\n",
       "    <tr>\n",
       "      <th>tamil</th>\n",
       "      <td>29.0</td>\n",
       "      <td>NaN</td>\n",
       "      <td>NaN</td>\n",
       "      <td>NaN</td>\n",
       "      <td>NaN</td>\n",
       "    </tr>\n",
       "    <tr>\n",
       "      <th>eng</th>\n",
       "      <td>NaN</td>\n",
       "      <td>NaN</td>\n",
       "      <td>NaN</td>\n",
       "      <td>33.0</td>\n",
       "      <td>NaN</td>\n",
       "    </tr>\n",
       "    <tr>\n",
       "      <th>math</th>\n",
       "      <td>NaN</td>\n",
       "      <td>NaN</td>\n",
       "      <td>NaN</td>\n",
       "      <td>NaN</td>\n",
       "      <td>NaN</td>\n",
       "    </tr>\n",
       "    <tr>\n",
       "      <th>science</th>\n",
       "      <td>NaN</td>\n",
       "      <td>NaN</td>\n",
       "      <td>NaN</td>\n",
       "      <td>NaN</td>\n",
       "      <td>NaN</td>\n",
       "    </tr>\n",
       "    <tr>\n",
       "      <th>social</th>\n",
       "      <td>NaN</td>\n",
       "      <td>NaN</td>\n",
       "      <td>NaN</td>\n",
       "      <td>NaN</td>\n",
       "      <td>NaN</td>\n",
       "    </tr>\n",
       "  </tbody>\n",
       "</table>\n",
       "</div>"
      ],
      "text/plain": [
       "         person_1  person_2  person_3  person_4  person_5\n",
       "tamil        29.0       NaN       NaN       NaN       NaN\n",
       "eng           NaN       NaN       NaN      33.0       NaN\n",
       "math          NaN       NaN       NaN       NaN       NaN\n",
       "science       NaN       NaN       NaN       NaN       NaN\n",
       "social        NaN       NaN       NaN       NaN       NaN"
      ]
     },
     "execution_count": 11,
     "metadata": {},
     "output_type": "execute_result"
    }
   ],
   "source": [
    "ds1[ds1<35]"
   ]
  },
  {
   "cell_type": "code",
   "execution_count": 12,
   "metadata": {
    "metadata": {}
   },
   "outputs": [],
   "source": [
    "# ds1.idxmax()\n",
    "ds1[ds1<35]=40"
   ]
  },
  {
   "cell_type": "code",
   "execution_count": 13,
   "metadata": {
    "metadata": {}
   },
   "outputs": [
    {
     "data": {
      "text/html": [
       "<div>\n",
       "<style scoped>\n",
       "    .dataframe tbody tr th:only-of-type {\n",
       "        vertical-align: middle;\n",
       "    }\n",
       "\n",
       "    .dataframe tbody tr th {\n",
       "        vertical-align: top;\n",
       "    }\n",
       "\n",
       "    .dataframe thead th {\n",
       "        text-align: right;\n",
       "    }\n",
       "</style>\n",
       "<table border=\"1\" class=\"dataframe\">\n",
       "  <thead>\n",
       "    <tr style=\"text-align: right;\">\n",
       "      <th></th>\n",
       "      <th>person_1</th>\n",
       "      <th>person_2</th>\n",
       "      <th>person_3</th>\n",
       "      <th>person_4</th>\n",
       "      <th>person_5</th>\n",
       "    </tr>\n",
       "  </thead>\n",
       "  <tbody>\n",
       "    <tr>\n",
       "      <th>tamil</th>\n",
       "      <td>40</td>\n",
       "      <td>83</td>\n",
       "      <td>68</td>\n",
       "      <td>96</td>\n",
       "      <td>78</td>\n",
       "    </tr>\n",
       "    <tr>\n",
       "      <th>eng</th>\n",
       "      <td>77</td>\n",
       "      <td>55</td>\n",
       "      <td>65</td>\n",
       "      <td>40</td>\n",
       "      <td>45</td>\n",
       "    </tr>\n",
       "    <tr>\n",
       "      <th>math</th>\n",
       "      <td>58</td>\n",
       "      <td>97</td>\n",
       "      <td>65</td>\n",
       "      <td>36</td>\n",
       "      <td>63</td>\n",
       "    </tr>\n",
       "    <tr>\n",
       "      <th>science</th>\n",
       "      <td>47</td>\n",
       "      <td>41</td>\n",
       "      <td>68</td>\n",
       "      <td>63</td>\n",
       "      <td>75</td>\n",
       "    </tr>\n",
       "    <tr>\n",
       "      <th>social</th>\n",
       "      <td>44</td>\n",
       "      <td>82</td>\n",
       "      <td>68</td>\n",
       "      <td>85</td>\n",
       "      <td>74</td>\n",
       "    </tr>\n",
       "  </tbody>\n",
       "</table>\n",
       "</div>"
      ],
      "text/plain": [
       "         person_1  person_2  person_3  person_4  person_5\n",
       "tamil          40        83        68        96        78\n",
       "eng            77        55        65        40        45\n",
       "math           58        97        65        36        63\n",
       "science        47        41        68        63        75\n",
       "social         44        82        68        85        74"
      ]
     },
     "execution_count": 13,
     "metadata": {},
     "output_type": "execute_result"
    }
   ],
   "source": [
    "ds1"
   ]
  },
  {
   "cell_type": "code",
   "execution_count": 14,
   "metadata": {
    "metadata": {}
   },
   "outputs": [
    {
     "data": {
      "text/plain": [
       "person_1      tamil\n",
       "person_2    science\n",
       "person_3        eng\n",
       "person_4       math\n",
       "person_5        eng\n",
       "dtype: object"
      ]
     },
     "execution_count": 14,
     "metadata": {},
     "output_type": "execute_result"
    }
   ],
   "source": [
    "ds1.idxmin()"
   ]
  },
  {
   "cell_type": "code",
   "execution_count": 15,
   "metadata": {
    "metadata": {}
   },
   "outputs": [],
   "source": [
    "me=ds1.mean().T"
   ]
  },
  {
   "cell_type": "code",
   "execution_count": 16,
   "metadata": {
    "metadata": {}
   },
   "outputs": [],
   "source": [
    "ds1.loc[\"mean\"]=me"
   ]
  },
  {
   "cell_type": "code",
   "execution_count": 17,
   "metadata": {
    "metadata": {}
   },
   "outputs": [
    {
     "data": {
      "text/html": [
       "<div>\n",
       "<style scoped>\n",
       "    .dataframe tbody tr th:only-of-type {\n",
       "        vertical-align: middle;\n",
       "    }\n",
       "\n",
       "    .dataframe tbody tr th {\n",
       "        vertical-align: top;\n",
       "    }\n",
       "\n",
       "    .dataframe thead th {\n",
       "        text-align: right;\n",
       "    }\n",
       "</style>\n",
       "<table border=\"1\" class=\"dataframe\">\n",
       "  <thead>\n",
       "    <tr style=\"text-align: right;\">\n",
       "      <th></th>\n",
       "      <th>person_1</th>\n",
       "      <th>person_2</th>\n",
       "      <th>person_3</th>\n",
       "      <th>person_4</th>\n",
       "      <th>person_5</th>\n",
       "    </tr>\n",
       "  </thead>\n",
       "  <tbody>\n",
       "    <tr>\n",
       "      <th>tamil</th>\n",
       "      <td>40.0</td>\n",
       "      <td>83.0</td>\n",
       "      <td>68.0</td>\n",
       "      <td>96.0</td>\n",
       "      <td>78.0</td>\n",
       "    </tr>\n",
       "    <tr>\n",
       "      <th>eng</th>\n",
       "      <td>77.0</td>\n",
       "      <td>55.0</td>\n",
       "      <td>65.0</td>\n",
       "      <td>40.0</td>\n",
       "      <td>45.0</td>\n",
       "    </tr>\n",
       "    <tr>\n",
       "      <th>math</th>\n",
       "      <td>58.0</td>\n",
       "      <td>97.0</td>\n",
       "      <td>65.0</td>\n",
       "      <td>36.0</td>\n",
       "      <td>63.0</td>\n",
       "    </tr>\n",
       "    <tr>\n",
       "      <th>science</th>\n",
       "      <td>47.0</td>\n",
       "      <td>41.0</td>\n",
       "      <td>68.0</td>\n",
       "      <td>63.0</td>\n",
       "      <td>75.0</td>\n",
       "    </tr>\n",
       "    <tr>\n",
       "      <th>social</th>\n",
       "      <td>44.0</td>\n",
       "      <td>82.0</td>\n",
       "      <td>68.0</td>\n",
       "      <td>85.0</td>\n",
       "      <td>74.0</td>\n",
       "    </tr>\n",
       "    <tr>\n",
       "      <th>mean</th>\n",
       "      <td>53.2</td>\n",
       "      <td>71.6</td>\n",
       "      <td>66.8</td>\n",
       "      <td>64.0</td>\n",
       "      <td>67.0</td>\n",
       "    </tr>\n",
       "  </tbody>\n",
       "</table>\n",
       "</div>"
      ],
      "text/plain": [
       "         person_1  person_2  person_3  person_4  person_5\n",
       "tamil        40.0      83.0      68.0      96.0      78.0\n",
       "eng          77.0      55.0      65.0      40.0      45.0\n",
       "math         58.0      97.0      65.0      36.0      63.0\n",
       "science      47.0      41.0      68.0      63.0      75.0\n",
       "social       44.0      82.0      68.0      85.0      74.0\n",
       "mean         53.2      71.6      66.8      64.0      67.0"
      ]
     },
     "execution_count": 17,
     "metadata": {},
     "output_type": "execute_result"
    }
   ],
   "source": [
    "ds1"
   ]
  },
  {
   "cell_type": "code",
   "execution_count": 18,
   "metadata": {
    "metadata": {}
   },
   "outputs": [
    {
     "data": {
      "text/html": [
       "<div>\n",
       "<style scoped>\n",
       "    .dataframe tbody tr th:only-of-type {\n",
       "        vertical-align: middle;\n",
       "    }\n",
       "\n",
       "    .dataframe tbody tr th {\n",
       "        vertical-align: top;\n",
       "    }\n",
       "\n",
       "    .dataframe thead th {\n",
       "        text-align: right;\n",
       "    }\n",
       "</style>\n",
       "<table border=\"1\" class=\"dataframe\">\n",
       "  <thead>\n",
       "    <tr style=\"text-align: right;\">\n",
       "      <th></th>\n",
       "      <th>person_1</th>\n",
       "      <th>person_2</th>\n",
       "      <th>person_3</th>\n",
       "      <th>person_4</th>\n",
       "      <th>person_5</th>\n",
       "    </tr>\n",
       "  </thead>\n",
       "  <tbody>\n",
       "    <tr>\n",
       "      <th>tamil</th>\n",
       "      <td>1.0</td>\n",
       "      <td>5.0</td>\n",
       "      <td>5.0</td>\n",
       "      <td>6.0</td>\n",
       "      <td>6.0</td>\n",
       "    </tr>\n",
       "    <tr>\n",
       "      <th>eng</th>\n",
       "      <td>6.0</td>\n",
       "      <td>2.0</td>\n",
       "      <td>1.5</td>\n",
       "      <td>2.0</td>\n",
       "      <td>1.0</td>\n",
       "    </tr>\n",
       "    <tr>\n",
       "      <th>math</th>\n",
       "      <td>5.0</td>\n",
       "      <td>6.0</td>\n",
       "      <td>1.5</td>\n",
       "      <td>1.0</td>\n",
       "      <td>2.0</td>\n",
       "    </tr>\n",
       "    <tr>\n",
       "      <th>science</th>\n",
       "      <td>3.0</td>\n",
       "      <td>1.0</td>\n",
       "      <td>5.0</td>\n",
       "      <td>3.0</td>\n",
       "      <td>5.0</td>\n",
       "    </tr>\n",
       "    <tr>\n",
       "      <th>social</th>\n",
       "      <td>2.0</td>\n",
       "      <td>4.0</td>\n",
       "      <td>5.0</td>\n",
       "      <td>5.0</td>\n",
       "      <td>4.0</td>\n",
       "    </tr>\n",
       "    <tr>\n",
       "      <th>mean</th>\n",
       "      <td>4.0</td>\n",
       "      <td>3.0</td>\n",
       "      <td>3.0</td>\n",
       "      <td>4.0</td>\n",
       "      <td>3.0</td>\n",
       "    </tr>\n",
       "  </tbody>\n",
       "</table>\n",
       "</div>"
      ],
      "text/plain": [
       "         person_1  person_2  person_3  person_4  person_5\n",
       "tamil         1.0       5.0       5.0       6.0       6.0\n",
       "eng           6.0       2.0       1.5       2.0       1.0\n",
       "math          5.0       6.0       1.5       1.0       2.0\n",
       "science       3.0       1.0       5.0       3.0       5.0\n",
       "social        2.0       4.0       5.0       5.0       4.0\n",
       "mean          4.0       3.0       3.0       4.0       3.0"
      ]
     },
     "execution_count": 18,
     "metadata": {},
     "output_type": "execute_result"
    }
   ],
   "source": [
    "ds1.rank()"
   ]
  },
  {
   "cell_type": "code",
   "execution_count": 19,
   "metadata": {
    "metadata": {}
   },
   "outputs": [],
   "source": [
    "import requests as rq"
   ]
  },
  {
   "cell_type": "code",
   "execution_count": 20,
   "metadata": {
    "metadata": {}
   },
   "outputs": [],
   "source": [
    "header={\n",
    "    \"User-Agent\":\"Mozilla/5.0(x11;Linux x86_64)AppleWebkit/537.36(KHTML,like Gecko)chrome/50.2667.75 Safari/537.36\",\n",
    "    \"x_requested-with\":\"XMLHttp request\"\n",
    "}"
   ]
  },
  {
   "cell_type": "code",
   "execution_count": 28,
   "metadata": {
    "metadata": {}
   },
   "outputs": [],
   "source": [
    "wd=rq.get(\"https://spaceweather.com/\",headers=header)"
   ]
  },
  {
   "cell_type": "code",
   "execution_count": 29,
   "metadata": {
    "metadata": {}
   },
   "outputs": [
    {
     "data": {
      "text/plain": [
       "<Response [200]>"
      ]
     },
     "execution_count": 29,
     "metadata": {},
     "output_type": "execute_result"
    }
   ],
   "source": [
    "wd"
   ]
  },
  {
   "cell_type": "code",
   "execution_count": 30,
   "metadata": {
    "metadata": {}
   },
   "outputs": [],
   "source": [
    "wd=pd.read_html(wd.text)"
   ]
  },
  {
   "cell_type": "code",
   "execution_count": 31,
   "metadata": {
    "metadata": {}
   },
   "outputs": [
    {
     "data": {
      "text/plain": [
       "[                                                   0  \\\n",
       " 0                                                NaN   \n",
       " 1                                                NaN   \n",
       " 2                                                NaN   \n",
       " 3  Solar wind  speed: 358.5 km/sec  density: 1.81...   \n",
       " \n",
       "                                1  \n",
       " 0       All Sky Fireball Network  \n",
       " 1                            NaN  \n",
       " 2  Cosmic Rays in the Atmosphere  \n",
       " 3                            NaN  ,\n",
       "     0   1   2   3   4\n",
       " 0 NaN NaN NaN NaN NaN\n",
       " 1 NaN NaN NaN NaN NaN\n",
       " 2 NaN NaN NaN NaN NaN\n",
       " 3 NaN NaN NaN NaN NaN\n",
       " 4 NaN NaN NaN NaN NaN,\n",
       "                                                    0  \\\n",
       " 0                                                NaN   \n",
       " 1                                                NaN   \n",
       " 2                                                NaN   \n",
       " 3  Solar wind  speed: 358.5 km/sec  density: 1.81...   \n",
       " \n",
       "                                                    1  \\\n",
       " 0                           All Sky Fireball Network   \n",
       " 1                                                NaN   \n",
       " 2                      Cosmic Rays in the Atmosphere   \n",
       " 3  Friday, May. 24, 2024  What's up in space This...   \n",
       " \n",
       "                                                    2  \n",
       " 0                                                NaN  \n",
       " 1                                                NaN  \n",
       " 2                                                NaN  \n",
       " 3  Morocco Tours: Unleash your inner adventurer! ...  ,\n",
       "                                                    0\n",
       " 0  Solar wind  speed: 358.5 km/sec  density: 1.81...,\n",
       "     0                                                  1   2\n",
       " 0 NaN  Solar wind  speed: 358.5 km/sec  density: 1.81... NaN,\n",
       "                                0   1\n",
       " 0  SPACE WEATHER  NOAA Forecasts NaN,\n",
       "          0         1          2\n",
       " 0    FLARE  0-24  hr  24-48  hr\n",
       " 1  CLASS M      60 %       60 %\n",
       " 2  CLASS X      10 %       10 %,\n",
       "         0         1          2\n",
       " 0     NaN  0-24  hr  24-48  hr\n",
       " 1  ACTIVE      30 %       25 %\n",
       " 2   MINOR      10 %       10 %\n",
       " 3  SEVERE      01 %       01 %,\n",
       "         0         1          2\n",
       " 0     NaN  0-24  hr  24-48  hr\n",
       " 1  ACTIVE      15 %       15 %\n",
       " 2   MINOR      25 %       25 %\n",
       " 3  SEVERE      40 %       35 %,\n",
       "                                                    0  \\\n",
       " 0                                                NaN   \n",
       " 1                                                NaN   \n",
       " 2                                                NaN   \n",
       " 3          Friday, May. 24, 2024  What's up in space   \n",
       " 4  This is an AI Free Zone! Text created by Large...   \n",
       " \n",
       "                                1  \n",
       " 0       All Sky Fireball Network  \n",
       " 1                            NaN  \n",
       " 2  Cosmic Rays in the Atmosphere  \n",
       " 3                            NaN  \n",
       " 4                            NaN  ,\n",
       "     0                   1                      2   3   4\n",
       " 0 NaN                 NaN                    NaN NaN NaN\n",
       " 1 NaN                 NaN  Friday, May. 24, 2024 NaN NaN\n",
       " 2 NaN  What's up in space  Friday, May. 24, 2024 NaN NaN,\n",
       "     0                                                  1   2   3\n",
       " 0 NaN                           All Sky Fireball Network NaN NaN\n",
       " 1 NaN                                                NaN NaN NaN\n",
       " 2 NaN                      Cosmic Rays in the Atmosphere NaN NaN\n",
       " 3 NaN                                                NaN NaN NaN\n",
       " 4 NaN  This is an AI Free Zone! Text created by Large... NaN NaN\n",
       " 5 NaN                                                NaN NaN NaN,\n",
       "                                                    0   1   2\n",
       " 0  This is an AI Free Zone! Text created by Large... NaN NaN,\n",
       "     0                         1\n",
       " 0 NaN  All Sky Fireball Network,\n",
       "     0                     1\n",
       " 0 NaN  Near Earth Asteroids,\n",
       "             0                              1              2                3  \\\n",
       " 0         NaN  Cosmic Rays in the Atmosphere            NaN              NaN   \n",
       " 1    Asteroid                       Date(UT)  Miss Distance  Velocity (km/s)   \n",
       " 2    2024 JQ1                    2024-May-18         5.7 LD                3   \n",
       " 3    2024 JK8                    2024-May-19           6 LD              9.8   \n",
       " 4    2024 JD1                    2024-May-20          19 LD              5.5   \n",
       " 5    2015 WO1                    2024-May-20         7.4 LD             15.6   \n",
       " 6   2024 JP12                    2024-May-21          11 LD              6.3   \n",
       " 7   2024 JZ17                    2024-May-21         6.6 LD             10.3   \n",
       " 8     2024 KC                    2024-May-21         4.3 LD              4.6   \n",
       " 9    2019 VB5                    2024-May-21         7.8 LD              6.3   \n",
       " 10  2024 JG15                    2024-May-22         6.6 LD             10.8   \n",
       " 11   2024 JZ6                    2024-May-23        14.6 LD             13.8   \n",
       " 12    2024 HP                    2024-May-23        15.5 LD              7.7   \n",
       " 13  2024 JX14                    2024-May-23        16.4 LD              6.2   \n",
       " 14   2024 HP2                    2024-May-25         5.8 LD              2.3   \n",
       " 15   2024 JY1                    2024-May-26        17.5 LD             10.3   \n",
       " 16  2024 JO16                    2024-May-27           8 LD              8.8   \n",
       " 17    2008 LD                    2024-May-28         7.7 LD              4.5   \n",
       " 18  2024 JV17                    2024-May-28        17.3 LD              8.4   \n",
       " 19    2021 LV                    2024-May-29          12 LD             15.5   \n",
       " 20    2024 JG                    2024-May-29         8.7 LD              7.4   \n",
       " 21   2024 JA3                    2024-May-30         6.2 LD              8.5   \n",
       " 22    2008 XH                    2024-May-31        13.8 LD             14.7   \n",
       " 23   2024 JP1                    2024-Jun-01        18.5 LD              4.7   \n",
       " 24   2024 JC1                    2024-Jun-01        15.1 LD              4.8   \n",
       " 25  1998 KY26                    2024-Jun-01          12 LD              5.3   \n",
       " 26   2016 JC6                    2024-Jun-01        19.9 LD              7.1   \n",
       " 27  2024 JR17                    2024-Jun-05        19.4 LD             14.6   \n",
       " 28   2008 YN2                    2024-Jun-05        10.5 LD              7.7   \n",
       " 29   2021 LW3                    2024-Jun-06         9.7 LD              9.8   \n",
       " 30   2024 CR9                    2024-Jun-11        19.2 LD              7.4   \n",
       " 31   2022 XC1                    2024-Jun-12        16.5 LD              6.5   \n",
       " 32  2022 WW11                    2024-Jun-17        19.7 LD             14.4   \n",
       " 33    2019 NJ                    2024-Jun-27        17.2 LD             10.1   \n",
       " 34     415029                    2024-Jun-27        17.3 LD             25.9   \n",
       " 35   2022 MM1                    2024-Jun-28         7.8 LD             10.9   \n",
       " 36    2010 XN                    2024-Jun-28        14.1 LD             11.3   \n",
       " 37   2022 HD1                    2024-Jun-29        17.3 LD              7.2   \n",
       " 38   2017 MB3                    2024-Jun-30           5 LD              6.5   \n",
       " 39  2022 BY39                    2024-Jul-02        13.2 LD                3   \n",
       " 40   2022 YS5                    2024-Jul-11          11 LD              5.8   \n",
       " 41  2024 BY15                    2024-Jul-16        16.2 LD              0.7   \n",
       " 42        NaN                            NaN            NaN              NaN   \n",
       " \n",
       "                4  \n",
       " 0            NaN  \n",
       " 1   Diameter (m)  \n",
       " 2             14  \n",
       " 3             16  \n",
       " 4             27  \n",
       " 5             86  \n",
       " 6             19  \n",
       " 7             23  \n",
       " 8              7  \n",
       " 9              2  \n",
       " 10            63  \n",
       " 11           246  \n",
       " 12           189  \n",
       " 13            27  \n",
       " 14            19  \n",
       " 15            52  \n",
       " 16            20  \n",
       " 17             6  \n",
       " 18            44  \n",
       " 19             9  \n",
       " 20            29  \n",
       " 21            36  \n",
       " 22           102  \n",
       " 23            25  \n",
       " 24            32  \n",
       " 25            25  \n",
       " 26           188  \n",
       " 27            87  \n",
       " 28            20  \n",
       " 29            86  \n",
       " 30           447  \n",
       " 31            21  \n",
       " 32            15  \n",
       " 33            66  \n",
       " 34          2304  \n",
       " 35            39  \n",
       " 36            52  \n",
       " 37            63  \n",
       " 38            30  \n",
       " 39             4  \n",
       " 40            38  \n",
       " 41            16  \n",
       " 42           NaN  ,\n",
       "     0                              1\n",
       " 0 NaN  Cosmic Rays in the Atmosphere,\n",
       "     0                    1\n",
       " 0 NaN  Essential web links,\n",
       "     0                                     1\n",
       " 0 NaN  NOAA Space Weather Prediction Center,\n",
       "     0                                                  1\n",
       " 0 NaN  The official U.S. government space weather bureau,\n",
       "     0                   1\n",
       " 0 NaN  Atmospheric Optics,\n",
       "     0                                                  1\n",
       " 0 NaN  The first place to look for information about ...,\n",
       "     0                           1\n",
       " 0 NaN  Solar Dynamics Observatory,\n",
       "     0                                                  1\n",
       " 0 NaN  Researchers call it a \"Hubble for the sun.\" SD...,\n",
       "     0       1\n",
       " 0 NaN  STEREO,\n",
       "     0                                                  1\n",
       " 0 NaN  3D views of the sun from NASA's Solar and Terr...,\n",
       "     0                                   1\n",
       " 0 NaN  Solar and Heliospheric Observatory,\n",
       "     0                                                  1\n",
       " 0 NaN  Realtime and archival images of the Sun from S...,\n",
       "     0                 1\n",
       " 0 NaN  SolarMonitor.org,\n",
       "     0                                                  1\n",
       " 0 NaN  information about sunspots based on the latest...,\n",
       "     0                              1\n",
       " 0 NaN  Starlink Satellite Statistics,\n",
       "     0                                                  1\n",
       " 0 NaN  current counts of failed and deployed Starlink...,\n",
       "     0                          1\n",
       " 0 NaN  The Aerospace Corporation,\n",
       "     0                                                  1\n",
       " 0 NaN  Authoritative predictions of space junk and sa...,\n",
       "     0                        1\n",
       " 0 NaN  Daily Sunspot Summaries,\n",
       "     0                                       1\n",
       " 0 NaN  from the NOAA Space Environment Center,\n",
       "     0                                    1\n",
       " 0 NaN  NOAA 27-Day Space Weather Forecasts,\n",
       "     0                                                  1\n",
       " 0 NaN  fun to read, but should be taken with a grain ...,\n",
       "     0                       1\n",
       " 0 NaN  Aurora 30 min forecast,\n",
       "     0                                       1\n",
       " 0 NaN  from the NOAA Space Environment Center,\n",
       "     0                   1\n",
       " 0 NaN  Live Aurora Webcam,\n",
       "     0                         1\n",
       " 0 NaN  from Lights over Lapland,\n",
       "     0             1\n",
       " 0 NaN  Heliophysics,\n",
       "     0                                        1\n",
       " 0 NaN  the underlying science of space weather,\n",
       "     0                                                  1\n",
       " 0 NaN  Spaceweather.com welcomes these supporters of ...,\n",
       "     0                                                  1\n",
       " 0 NaN  To get the best views of the cosmos, check out...,\n",
       "     0                                                  1\n",
       " 0 NaN  Got a chipped or cracked windshield that preve...,\n",
       "     0                                   1\n",
       " 0 NaN  NASA Near Earth Asteroid Home Page,\n",
       "     0                                                  1\n",
       " 0 NaN  Marketing yourself on YouTube is hard without ...,\n",
       "     0                                                  1\n",
       " 0 NaN  When looking for casinos to play online when t...,\n",
       "     0                                                  1\n",
       " 0 NaN  BestCSGOGambling is the best site for everythi...,\n",
       "     0                                                  1\n",
       " 0 NaN  Find the best online casinos in India at AllCa...,\n",
       "     0                   1\n",
       " 0 NaN  Chicago SEO Expert,\n",
       "     0                                                  1\n",
       " 0 NaN  Search Kelowna Real Estate Listings & Homes fo...,\n",
       "     0                                                  1\n",
       " 0 NaN  Would you like to bet at sites not using GamSt...,\n",
       "     0                                                  1\n",
       " 0 NaN  These links help Spaceweather.com stay online....,\n",
       "     0              1\n",
       " 0 NaN  more links...,\n",
       "     0   1\n",
       " 0 NaN NaN,\n",
       "     0   1\n",
       " 0 NaN NaN,\n",
       "                                                    0\n",
       " 0  HEY! SOMEBODY'S GOTTA PAY THE SERVER BILLS... ...,\n",
       "                                                    0\n",
       " 0  Morocco Tours: Unleash your inner adventurer! ...]"
      ]
     },
     "execution_count": 31,
     "metadata": {},
     "output_type": "execute_result"
    }
   ],
   "source": [
    "wd"
   ]
  },
  {
   "cell_type": "code",
   "execution_count": 34,
   "metadata": {
    "metadata": {}
   },
   "outputs": [
    {
     "data": {
      "text/plain": [
       "61"
      ]
     },
     "execution_count": 34,
     "metadata": {},
     "output_type": "execute_result"
    }
   ],
   "source": [
    "len(wd)"
   ]
  },
  {
   "cell_type": "code",
   "execution_count": 35,
   "metadata": {},
   "outputs": [
    {
     "data": {
      "text/html": [
       "<div>\n",
       "<style scoped>\n",
       "    .dataframe tbody tr th:only-of-type {\n",
       "        vertical-align: middle;\n",
       "    }\n",
       "\n",
       "    .dataframe tbody tr th {\n",
       "        vertical-align: top;\n",
       "    }\n",
       "\n",
       "    .dataframe thead th {\n",
       "        text-align: right;\n",
       "    }\n",
       "</style>\n",
       "<table border=\"1\" class=\"dataframe\">\n",
       "  <thead>\n",
       "    <tr style=\"text-align: right;\">\n",
       "      <th></th>\n",
       "      <th>0</th>\n",
       "      <th>1</th>\n",
       "    </tr>\n",
       "  </thead>\n",
       "  <tbody>\n",
       "    <tr>\n",
       "      <th>0</th>\n",
       "      <td>NaN</td>\n",
       "      <td>All Sky Fireball Network</td>\n",
       "    </tr>\n",
       "    <tr>\n",
       "      <th>1</th>\n",
       "      <td>NaN</td>\n",
       "      <td>NaN</td>\n",
       "    </tr>\n",
       "    <tr>\n",
       "      <th>2</th>\n",
       "      <td>NaN</td>\n",
       "      <td>Cosmic Rays in the Atmosphere</td>\n",
       "    </tr>\n",
       "    <tr>\n",
       "      <th>3</th>\n",
       "      <td>Solar wind  speed: 358.5 km/sec  density: 1.81...</td>\n",
       "      <td>NaN</td>\n",
       "    </tr>\n",
       "  </tbody>\n",
       "</table>\n",
       "</div>"
      ],
      "text/plain": [
       "                                                   0  \\\n",
       "0                                                NaN   \n",
       "1                                                NaN   \n",
       "2                                                NaN   \n",
       "3  Solar wind  speed: 358.5 km/sec  density: 1.81...   \n",
       "\n",
       "                               1  \n",
       "0       All Sky Fireball Network  \n",
       "1                            NaN  \n",
       "2  Cosmic Rays in the Atmosphere  \n",
       "3                            NaN  "
      ]
     },
     "execution_count": 35,
     "metadata": {},
     "output_type": "execute_result"
    }
   ],
   "source": [
    "wd[0]"
   ]
  },
  {
   "cell_type": "code",
   "execution_count": 36,
   "metadata": {},
   "outputs": [
    {
     "data": {
      "text/html": [
       "<div>\n",
       "<style scoped>\n",
       "    .dataframe tbody tr th:only-of-type {\n",
       "        vertical-align: middle;\n",
       "    }\n",
       "\n",
       "    .dataframe tbody tr th {\n",
       "        vertical-align: top;\n",
       "    }\n",
       "\n",
       "    .dataframe thead th {\n",
       "        text-align: right;\n",
       "    }\n",
       "</style>\n",
       "<table border=\"1\" class=\"dataframe\">\n",
       "  <thead>\n",
       "    <tr style=\"text-align: right;\">\n",
       "      <th></th>\n",
       "      <th>0</th>\n",
       "      <th>1</th>\n",
       "      <th>2</th>\n",
       "      <th>3</th>\n",
       "      <th>4</th>\n",
       "    </tr>\n",
       "  </thead>\n",
       "  <tbody>\n",
       "    <tr>\n",
       "      <th>0</th>\n",
       "      <td>NaN</td>\n",
       "      <td>NaN</td>\n",
       "      <td>NaN</td>\n",
       "      <td>NaN</td>\n",
       "      <td>NaN</td>\n",
       "    </tr>\n",
       "    <tr>\n",
       "      <th>1</th>\n",
       "      <td>NaN</td>\n",
       "      <td>NaN</td>\n",
       "      <td>NaN</td>\n",
       "      <td>NaN</td>\n",
       "      <td>NaN</td>\n",
       "    </tr>\n",
       "    <tr>\n",
       "      <th>2</th>\n",
       "      <td>NaN</td>\n",
       "      <td>NaN</td>\n",
       "      <td>NaN</td>\n",
       "      <td>NaN</td>\n",
       "      <td>NaN</td>\n",
       "    </tr>\n",
       "    <tr>\n",
       "      <th>3</th>\n",
       "      <td>NaN</td>\n",
       "      <td>NaN</td>\n",
       "      <td>NaN</td>\n",
       "      <td>NaN</td>\n",
       "      <td>NaN</td>\n",
       "    </tr>\n",
       "    <tr>\n",
       "      <th>4</th>\n",
       "      <td>NaN</td>\n",
       "      <td>NaN</td>\n",
       "      <td>NaN</td>\n",
       "      <td>NaN</td>\n",
       "      <td>NaN</td>\n",
       "    </tr>\n",
       "  </tbody>\n",
       "</table>\n",
       "</div>"
      ],
      "text/plain": [
       "    0   1   2   3   4\n",
       "0 NaN NaN NaN NaN NaN\n",
       "1 NaN NaN NaN NaN NaN\n",
       "2 NaN NaN NaN NaN NaN\n",
       "3 NaN NaN NaN NaN NaN\n",
       "4 NaN NaN NaN NaN NaN"
      ]
     },
     "execution_count": 36,
     "metadata": {},
     "output_type": "execute_result"
    }
   ],
   "source": [
    "wd[1]"
   ]
  },
  {
   "cell_type": "code",
   "execution_count": 46,
   "metadata": {},
   "outputs": [],
   "source": [
    "import numpy as n\n",
    "x16=n.random.randint(1,10,5)"
   ]
  },
  {
   "cell_type": "code",
   "execution_count": 47,
   "metadata": {},
   "outputs": [
    {
     "data": {
      "text/plain": [
       "array([4, 3, 9, 6, 6])"
      ]
     },
     "execution_count": 47,
     "metadata": {},
     "output_type": "execute_result"
    }
   ],
   "source": [
    "x16"
   ]
  },
  {
   "cell_type": "code",
   "execution_count": 48,
   "metadata": {},
   "outputs": [
    {
     "data": {
      "text/plain": [
       "28"
      ]
     },
     "execution_count": 48,
     "metadata": {},
     "output_type": "execute_result"
    }
   ],
   "source": [
    "n.sum(x16)"
   ]
  },
  {
   "cell_type": "code",
   "execution_count": 49,
   "metadata": {},
   "outputs": [
    {
     "data": {
      "text/plain": [
       "array([2.        , 1.73205081, 3.        , 2.44948974, 2.44948974])"
      ]
     },
     "execution_count": 49,
     "metadata": {},
     "output_type": "execute_result"
    }
   ],
   "source": [
    "n.sqrt(x16)"
   ]
  },
  {
   "cell_type": "code",
   "execution_count": 50,
   "metadata": {},
   "outputs": [
    {
     "data": {
      "text/plain": [
       "(5,)"
      ]
     },
     "execution_count": 50,
     "metadata": {},
     "output_type": "execute_result"
    }
   ],
   "source": [
    "n.shape(x16)"
   ]
  },
  {
   "cell_type": "code",
   "execution_count": 51,
   "metadata": {},
   "outputs": [],
   "source": [
    "x12=n.random.randint(1,10,5)"
   ]
  },
  {
   "cell_type": "code",
   "execution_count": 52,
   "metadata": {},
   "outputs": [
    {
     "data": {
      "text/plain": [
       "array([3, 2, 2, 7, 9])"
      ]
     },
     "execution_count": 52,
     "metadata": {},
     "output_type": "execute_result"
    }
   ],
   "source": [
    "x12"
   ]
  },
  {
   "cell_type": "code",
   "execution_count": 53,
   "metadata": {},
   "outputs": [],
   "source": [
    "x12.sort()"
   ]
  },
  {
   "cell_type": "code",
   "execution_count": 54,
   "metadata": {},
   "outputs": [
    {
     "data": {
      "text/plain": [
       "array([2, 2, 3, 7, 9])"
      ]
     },
     "execution_count": 54,
     "metadata": {},
     "output_type": "execute_result"
    }
   ],
   "source": [
    "x12"
   ]
  },
  {
   "cell_type": "code",
   "execution_count": 55,
   "metadata": {},
   "outputs": [
    {
     "data": {
      "text/plain": [
       "9"
      ]
     },
     "execution_count": 55,
     "metadata": {},
     "output_type": "execute_result"
    }
   ],
   "source": [
    "n.max(x12)"
   ]
  },
  {
   "cell_type": "code",
   "execution_count": 56,
   "metadata": {},
   "outputs": [
    {
     "data": {
      "text/plain": [
       "2"
      ]
     },
     "execution_count": 56,
     "metadata": {},
     "output_type": "execute_result"
    }
   ],
   "source": [
    "n.min(x12)"
   ]
  },
  {
   "cell_type": "code",
   "execution_count": 57,
   "metadata": {},
   "outputs": [
    {
     "data": {
      "text/plain": [
       "0"
      ]
     },
     "execution_count": 57,
     "metadata": {},
     "output_type": "execute_result"
    }
   ],
   "source": [
    "x12.argmin()"
   ]
  },
  {
   "cell_type": "code",
   "execution_count": 58,
   "metadata": {},
   "outputs": [
    {
     "data": {
      "text/plain": [
       "4"
      ]
     },
     "execution_count": 58,
     "metadata": {},
     "output_type": "execute_result"
    }
   ],
   "source": [
    "x12.argmax()"
   ]
  },
  {
   "cell_type": "code",
   "execution_count": 59,
   "metadata": {},
   "outputs": [
    {
     "data": {
      "text/plain": [
       "array([2, 3, 7, 9])"
      ]
     },
     "execution_count": 59,
     "metadata": {},
     "output_type": "execute_result"
    }
   ],
   "source": [
    "n.unique(x12)"
   ]
  },
  {
   "cell_type": "code",
   "execution_count": 64,
   "metadata": {},
   "outputs": [
    {
     "name": "stdout",
     "output_type": "stream",
     "text": [
      "[2 2 3 7 9]\n"
     ]
    }
   ],
   "source": [
    "print(x12)"
   ]
  },
  {
   "cell_type": "code",
   "execution_count": 66,
   "metadata": {},
   "outputs": [
    {
     "data": {
      "text/plain": [
       "array([1.38629436, 1.09861229, 2.19722458, 1.79175947, 1.79175947])"
      ]
     },
     "execution_count": 66,
     "metadata": {},
     "output_type": "execute_result"
    }
   ],
   "source": [
    "n.log(x16)"
   ]
  },
  {
   "cell_type": "code",
   "execution_count": 67,
   "metadata": {},
   "outputs": [
    {
     "data": {
      "text/plain": [
       "array([-0.7568025 ,  0.14112001,  0.41211849, -0.2794155 , -0.2794155 ])"
      ]
     },
     "execution_count": 67,
     "metadata": {},
     "output_type": "execute_result"
    }
   ],
   "source": [
    "n.sin(x16)"
   ]
  },
  {
   "cell_type": "code",
   "execution_count": 68,
   "metadata": {},
   "outputs": [
    {
     "data": {
      "text/plain": [
       "array([-0.65364362, -0.9899925 , -0.91113026,  0.96017029,  0.96017029])"
      ]
     },
     "execution_count": 68,
     "metadata": {},
     "output_type": "execute_result"
    }
   ],
   "source": [
    "n.cos(x16)"
   ]
  },
  {
   "cell_type": "code",
   "execution_count": 69,
   "metadata": {},
   "outputs": [
    {
     "data": {
      "text/plain": [
       "0.3006322420239034"
      ]
     },
     "execution_count": 69,
     "metadata": {},
     "output_type": "execute_result"
    }
   ],
   "source": [
    "n.tan(16)"
   ]
  },
  {
   "cell_type": "code",
   "execution_count": 71,
   "metadata": {},
   "outputs": [],
   "source": [
    "import numpy as n"
   ]
  },
  {
   "cell_type": "code",
   "execution_count": 73,
   "metadata": {},
   "outputs": [
    {
     "name": "stdout",
     "output_type": "stream",
     "text": [
      "[1 2]\n"
     ]
    }
   ],
   "source": [
    "x1=n.array([1,2])\n",
    "print(x1)"
   ]
  },
  {
   "cell_type": "code",
   "execution_count": 75,
   "metadata": {},
   "outputs": [
    {
     "data": {
      "text/plain": [
       "2"
      ]
     },
     "execution_count": 75,
     "metadata": {},
     "output_type": "execute_result"
    }
   ],
   "source": [
    "x1.size"
   ]
  },
  {
   "cell_type": "code",
   "execution_count": 76,
   "metadata": {},
   "outputs": [
    {
     "data": {
      "text/plain": [
       "dtype('int64')"
      ]
     },
     "execution_count": 76,
     "metadata": {},
     "output_type": "execute_result"
    }
   ],
   "source": [
    "x1.dtype"
   ]
  },
  {
   "cell_type": "code",
   "execution_count": 79,
   "metadata": {},
   "outputs": [
    {
     "name": "stdout",
     "output_type": "stream",
     "text": [
      "[1 2 3 4]\n"
     ]
    }
   ],
   "source": [
    "x2=n.arange(1,5)\n",
    "print(x2)"
   ]
  },
  {
   "cell_type": "code",
   "execution_count": 101,
   "metadata": {},
   "outputs": [
    {
     "name": "stdout",
     "output_type": "stream",
     "text": [
      "[1 3 5 7 9]\n"
     ]
    }
   ],
   "source": [
    "x3=n.arange(1,10,2)\n",
    "print(x3)"
   ]
  },
  {
   "cell_type": "code",
   "execution_count": 88,
   "metadata": {},
   "outputs": [
    {
     "name": "stdout",
     "output_type": "stream",
     "text": [
      "[0.         0.55555556 1.11111111 1.66666667 2.22222222 2.77777778\n",
      " 3.33333333 3.88888889 4.44444444 5.        ]\n"
     ]
    }
   ],
   "source": [
    "x4=n.linspace(0,5,10)\n",
    "print(x4)"
   ]
  },
  {
   "cell_type": "code",
   "execution_count": 92,
   "metadata": {},
   "outputs": [
    {
     "name": "stdout",
     "output_type": "stream",
     "text": [
      "[0. 0. 0. 0. 0.]\n"
     ]
    }
   ],
   "source": [
    "x5=n.zeros(5)\n",
    "print(x5)"
   ]
  },
  {
   "cell_type": "code",
   "execution_count": 95,
   "metadata": {},
   "outputs": [
    {
     "name": "stdout",
     "output_type": "stream",
     "text": [
      "[[0. 0. 0. 0. 0. 0.]\n",
      " [0. 0. 0. 0. 0. 0.]\n",
      " [0. 0. 0. 0. 0. 0.]\n",
      " [0. 0. 0. 0. 0. 0.]\n",
      " [0. 0. 0. 0. 0. 0.]]\n"
     ]
    }
   ],
   "source": [
    "x6=n.zeros((5,6))\n",
    "print(x6)"
   ]
  },
  {
   "cell_type": "code",
   "execution_count": 96,
   "metadata": {},
   "outputs": [
    {
     "name": "stdout",
     "output_type": "stream",
     "text": [
      "[1. 1. 1.]\n"
     ]
    }
   ],
   "source": [
    "x7=n.ones(3)\n",
    "print(x7)"
   ]
  },
  {
   "cell_type": "code",
   "execution_count": 97,
   "metadata": {},
   "outputs": [
    {
     "name": "stdout",
     "output_type": "stream",
     "text": [
      "[[1. 1. 1. 1. 1.]\n",
      " [1. 1. 1. 1. 1.]\n",
      " [1. 1. 1. 1. 1.]]\n"
     ]
    }
   ],
   "source": [
    "x8=n.ones((3,5))\n",
    "print(x8)"
   ]
  },
  {
   "cell_type": "code",
   "execution_count": 98,
   "metadata": {},
   "outputs": [
    {
     "name": "stdout",
     "output_type": "stream",
     "text": [
      "7\n"
     ]
    }
   ],
   "source": [
    "x9=n.random.randint(1,10)\n",
    "print(x9)"
   ]
  },
  {
   "cell_type": "code",
   "execution_count": 99,
   "metadata": {},
   "outputs": [
    {
     "name": "stdout",
     "output_type": "stream",
     "text": [
      "[8 8 2 2 7]\n"
     ]
    }
   ],
   "source": [
    "x10=n.random.randint(1,10,5)\n",
    "print(x10)"
   ]
  },
  {
   "cell_type": "code",
   "execution_count": 100,
   "metadata": {},
   "outputs": [
    {
     "name": "stdout",
     "output_type": "stream",
     "text": [
      "[ 0.          5.55555556 11.11111111 16.66666667 22.22222222 27.77777778\n",
      " 33.33333333 38.88888889 44.44444444 50.        ]\n"
     ]
    }
   ],
   "source": [
    "x11=n.linspace(0,50,10)\n",
    "print(x11)"
   ]
  },
  {
   "cell_type": "code",
   "execution_count": null,
   "metadata": {},
   "outputs": [],
   "source": []
  }
 ],
 "metadata": {
  "kernelspec": {
   "display_name": "Python 3",
   "language": "python",
   "name": "python3"
  },
  "language_info": {
   "codemirror_mode": {
    "name": "ipython",
    "version": 3
   },
   "file_extension": ".py",
   "mimetype": "text/x-python",
   "name": "python",
   "nbconvert_exporter": "python",
   "pygments_lexer": "ipython3",
   "version": "3.12.3"
  }
 },
 "nbformat": 4,
 "nbformat_minor": 2
}
