{
 "cells": [
  {
   "cell_type": "markdown",
   "metadata": {},
   "source": [
    "# <span style=\"color:green\">Numpy</span>"
   ]
  },
  {
   "cell_type": "markdown",
   "metadata": {},
   "source": [
    "general purpose array processing package."
   ]
  },
  {
   "cell_type": "code",
   "execution_count": 1,
   "metadata": {},
   "outputs": [],
   "source": [
    "import numpy as n"
   ]
  },
  {
   "cell_type": "code",
   "execution_count": 3,
   "metadata": {},
   "outputs": [
    {
     "name": "stdout",
     "output_type": "stream",
     "text": [
      "[1 2]\n"
     ]
    }
   ],
   "source": [
    "x1=n.array([1,2])  # creating an array and storing in variable x1\n",
    "print(x1)"
   ]
  },
  {
   "cell_type": "code",
   "execution_count": 4,
   "metadata": {},
   "outputs": [
    {
     "data": {
      "text/plain": [
       "1"
      ]
     },
     "execution_count": 4,
     "metadata": {},
     "output_type": "execute_result"
    }
   ],
   "source": [
    "# to know array dimension\n",
    "x1.ndim"
   ]
  },
  {
   "cell_type": "code",
   "execution_count": 5,
   "metadata": {},
   "outputs": [
    {
     "data": {
      "text/plain": [
       "2"
      ]
     },
     "execution_count": 5,
     "metadata": {},
     "output_type": "execute_result"
    }
   ],
   "source": [
    "# to know array size\n",
    "x1.size"
   ]
  },
  {
   "cell_type": "code",
   "execution_count": 6,
   "metadata": {},
   "outputs": [
    {
     "data": {
      "text/plain": [
       "dtype('int64')"
      ]
     },
     "execution_count": 6,
     "metadata": {},
     "output_type": "execute_result"
    }
   ],
   "source": [
    "# to know array data type\n",
    "x1.dtype"
   ]
  },
  {
   "cell_type": "markdown",
   "metadata": {},
   "source": [
    "### <span style=\"color:skyblue\">Array creation</span>"
   ]
  },
  {
   "cell_type": "code",
   "execution_count": 7,
   "metadata": {},
   "outputs": [
    {
     "name": "stdout",
     "output_type": "stream",
     "text": [
      "[1 2 3 4]\n"
     ]
    }
   ],
   "source": [
    "# create array with range\n",
    "x2=n.arange(1,5)\n",
    "print(x2)"
   ]
  },
  {
   "cell_type": "code",
   "execution_count": 8,
   "metadata": {},
   "outputs": [
    {
     "name": "stdout",
     "output_type": "stream",
     "text": [
      "[1 4 7]\n"
     ]
    }
   ],
   "source": [
    "# create array with range and count value\n",
    "x3=n.arange(1,10,3)\n",
    "print(x3)"
   ]
  },
  {
   "cell_type": "code",
   "execution_count": 9,
   "metadata": {},
   "outputs": [
    {
     "name": "stdout",
     "output_type": "stream",
     "text": [
      "[0.         0.55555556 1.11111111 1.66666667 2.22222222 2.77777778\n",
      " 3.33333333 3.88888889 4.44444444 5.        ]\n"
     ]
    }
   ],
   "source": [
    "# Linspace => number of elements are returned\n",
    "x4=n.linspace(0,5,10)\n",
    "print(x4)"
   ]
  },
  {
   "cell_type": "code",
   "execution_count": 10,
   "metadata": {},
   "outputs": [
    {
     "name": "stdout",
     "output_type": "stream",
     "text": [
      "[0. 0. 0. 0. 0.]\n"
     ]
    }
   ],
   "source": [
    "# to create array of zeros which is used in matrix\n",
    "x5=n.zeros(5)\n",
    "print(x5)"
   ]
  },
  {
   "cell_type": "code",
   "execution_count": 11,
   "metadata": {},
   "outputs": [
    {
     "name": "stdout",
     "output_type": "stream",
     "text": [
      "[[0. 0.]\n",
      " [0. 0.]\n",
      " [0. 0.]\n",
      " [0. 0.]\n",
      " [0. 0.]]\n"
     ]
    }
   ],
   "source": [
    "x6=n.zeros((5,2))   # n.zeros((row,column))\n",
    "print(x6)"
   ]
  },
  {
   "cell_type": "code",
   "execution_count": 12,
   "metadata": {},
   "outputs": [
    {
     "name": "stdout",
     "output_type": "stream",
     "text": [
      "[1. 1. 1.]\n"
     ]
    }
   ],
   "source": [
    "# to create array of one\n",
    "x7=n.ones(3)\n",
    "print(x7)"
   ]
  },
  {
   "cell_type": "code",
   "execution_count": 13,
   "metadata": {},
   "outputs": [
    {
     "name": "stdout",
     "output_type": "stream",
     "text": [
      "[[1. 1. 1. 1. 1.]\n",
      " [1. 1. 1. 1. 1.]\n",
      " [1. 1. 1. 1. 1.]]\n"
     ]
    }
   ],
   "source": [
    "x8=n.ones((3,5))\n",
    "print(x8)"
   ]
  },
  {
   "cell_type": "code",
   "execution_count": 14,
   "metadata": {},
   "outputs": [
    {
     "name": "stdout",
     "output_type": "stream",
     "text": [
      "9\n"
     ]
    }
   ],
   "source": [
    "# to creare array of random numbers\n",
    "x9=n.random.randint(1,10)\n",
    "print(x9)"
   ]
  },
  {
   "cell_type": "code",
   "execution_count": 15,
   "metadata": {},
   "outputs": [
    {
     "name": "stdout",
     "output_type": "stream",
     "text": [
      "[2 3 4 4 7]\n"
     ]
    }
   ],
   "source": [
    "x10=n.random.randint(1,10,5)\n",
    "print(x10)"
   ]
  },
  {
   "cell_type": "code",
   "execution_count": 16,
   "metadata": {},
   "outputs": [
    {
     "name": "stdout",
     "output_type": "stream",
     "text": [
      "[ 0.          5.55555556 11.11111111 16.66666667 22.22222222 27.77777778\n",
      " 33.33333333 38.88888889 44.44444444 50.        ]\n"
     ]
    }
   ],
   "source": [
    "# create a array with number of element separated \n",
    "x11=n.linspace(0,50,10)\n",
    "print(x11)"
   ]
  },
  {
   "cell_type": "code",
   "execution_count": 2,
   "metadata": {},
   "outputs": [
    {
     "name": "stdout",
     "output_type": "stream",
     "text": [
      "x12=  [[1. 0. 0.]\n",
      " [0. 1. 0.]\n",
      " [0. 0. 1.]]\n",
      "x13 =  [[1. 0.]\n",
      " [0. 1.]\n",
      " [0. 0.]]\n",
      "x14 =  [[0. 0.]\n",
      " [1. 0.]\n",
      " [0. 1.]]\n"
     ]
    }
   ],
   "source": [
    "# Create an identity matrix.\n",
    "x12=n.eye(3)\n",
    "x13=n.eye(3,2)\n",
    "x14=n.eye(3,2,-1)\n",
    "print(\"x12= \",x12)\n",
    "print(\"x13 = \",x13)\n",
    "print(\"x14 = \",x14)\n"
   ]
  },
  {
   "cell_type": "code",
   "execution_count": 3,
   "metadata": {},
   "outputs": [
    {
     "name": "stdout",
     "output_type": "stream",
     "text": [
      "[ 6  1  4  2  5 19 18 19 12  5  9  4  7 10  1]\n"
     ]
    }
   ],
   "source": [
    "x15=n.random.randint(1,20,15)\n",
    "print(x15)"
   ]
  },
  {
   "cell_type": "markdown",
   "metadata": {},
   "source": [
    "### <span style=\"color:skyblue\">Array processing</span>"
   ]
  },
  {
   "cell_type": "code",
   "execution_count": 4,
   "metadata": {},
   "outputs": [],
   "source": [
    "# to make array in order\n",
    "x15.sort()"
   ]
  },
  {
   "cell_type": "code",
   "execution_count": 20,
   "metadata": {},
   "outputs": [
    {
     "data": {
      "text/plain": [
       "array([ 1,  3,  6,  6,  8,  9, 13, 15, 15, 16, 16, 17, 17, 18, 18])"
      ]
     },
     "execution_count": 20,
     "metadata": {},
     "output_type": "execute_result"
    }
   ],
   "source": [
    "x15"
   ]
  },
  {
   "cell_type": "code",
   "execution_count": 21,
   "metadata": {},
   "outputs": [
    {
     "data": {
      "text/plain": [
       "18"
      ]
     },
     "execution_count": 21,
     "metadata": {},
     "output_type": "execute_result"
    }
   ],
   "source": [
    "# to get max element\n",
    "n.max(x15)"
   ]
  },
  {
   "cell_type": "code",
   "execution_count": 22,
   "metadata": {},
   "outputs": [
    {
     "data": {
      "text/plain": [
       "1"
      ]
     },
     "execution_count": 22,
     "metadata": {},
     "output_type": "execute_result"
    }
   ],
   "source": [
    "# to get min element\n",
    "n.min(x15)"
   ]
  },
  {
   "cell_type": "code",
   "execution_count": 23,
   "metadata": {},
   "outputs": [
    {
     "data": {
      "text/plain": [
       "0"
      ]
     },
     "execution_count": 23,
     "metadata": {},
     "output_type": "execute_result"
    }
   ],
   "source": [
    "# to check where minimum value is present\n",
    "x15.argmin()"
   ]
  },
  {
   "cell_type": "code",
   "execution_count": 24,
   "metadata": {},
   "outputs": [
    {
     "data": {
      "text/plain": [
       "array([ 1,  3,  6,  6,  8,  9, 13, 15, 15, 16, 16, 17, 17, 18, 18])"
      ]
     },
     "execution_count": 24,
     "metadata": {},
     "output_type": "execute_result"
    }
   ],
   "source": [
    "x15"
   ]
  },
  {
   "cell_type": "code",
   "execution_count": 25,
   "metadata": {},
   "outputs": [
    {
     "data": {
      "text/plain": [
       "array([50.        , 44.44444444, 38.88888889, 33.33333333, 27.77777778,\n",
       "       22.22222222, 16.66666667, 11.11111111,  5.55555556,  0.        ])"
      ]
     },
     "execution_count": 25,
     "metadata": {},
     "output_type": "execute_result"
    }
   ],
   "source": [
    "# to make array in reverse order \n",
    "-n.sort(-x11)"
   ]
  },
  {
   "cell_type": "code",
   "execution_count": 26,
   "metadata": {},
   "outputs": [
    {
     "data": {
      "text/plain": [
       "13"
      ]
     },
     "execution_count": 26,
     "metadata": {},
     "output_type": "execute_result"
    }
   ],
   "source": [
    "# to check where maximum value is present\n",
    "x15.argmax()"
   ]
  },
  {
   "cell_type": "code",
   "execution_count": 27,
   "metadata": {},
   "outputs": [
    {
     "data": {
      "text/plain": [
       "array([ 1,  3,  6,  8,  9, 13, 15, 16, 17, 18])"
      ]
     },
     "execution_count": 27,
     "metadata": {},
     "output_type": "execute_result"
    }
   ],
   "source": [
    "# to find unique values\n",
    "n.unique(x15)"
   ]
  },
  {
   "cell_type": "code",
   "execution_count": 6,
   "metadata": {},
   "outputs": [
    {
     "name": "stdout",
     "output_type": "stream",
     "text": [
      "[7 2 4 8 2]\n"
     ]
    }
   ],
   "source": [
    "x16=n.random.randint(1,10,5)\n",
    "print(x16)"
   ]
  },
  {
   "cell_type": "code",
   "execution_count": 29,
   "metadata": {},
   "outputs": [
    {
     "data": {
      "text/plain": [
       "23"
      ]
     },
     "execution_count": 29,
     "metadata": {},
     "output_type": "execute_result"
    }
   ],
   "source": [
    "# to add all the elements in array\n",
    "n.sum(x16)"
   ]
  },
  {
   "cell_type": "code",
   "execution_count": 30,
   "metadata": {},
   "outputs": [
    {
     "data": {
      "text/plain": [
       "array([1.73205081, 2.82842712, 1.41421356, 2.44948974, 2.        ])"
      ]
     },
     "execution_count": 30,
     "metadata": {},
     "output_type": "execute_result"
    }
   ],
   "source": [
    "# to take square root of all elements in array \n",
    "n.sqrt(x16)"
   ]
  },
  {
   "cell_type": "code",
   "execution_count": 31,
   "metadata": {},
   "outputs": [
    {
     "data": {
      "text/plain": [
       "(5,)"
      ]
     },
     "execution_count": 31,
     "metadata": {},
     "output_type": "execute_result"
    }
   ],
   "source": [
    "n.shape(x16)"
   ]
  },
  {
   "cell_type": "code",
   "execution_count": 11,
   "metadata": {},
   "outputs": [
    {
     "name": "stdout",
     "output_type": "stream",
     "text": [
      "[[ 1  1  2]\n",
      " [ 4  4  5]\n",
      " [ 5  6  7]\n",
      " [ 9 10 12]\n",
      " [18 19 19]]\n"
     ]
    }
   ],
   "source": [
    "# reshape an array \n",
    "x17=x15.reshape(5,3)\n",
    "print(x17)"
   ]
  },
  {
   "cell_type": "code",
   "execution_count": 33,
   "metadata": {},
   "outputs": [
    {
     "data": {
      "text/plain": [
       "array([[ 1,  6, 13, 16, 17],\n",
       "       [ 3,  8, 15, 16, 18],\n",
       "       [ 6,  9, 15, 17, 18]])"
      ]
     },
     "execution_count": 33,
     "metadata": {},
     "output_type": "execute_result"
    }
   ],
   "source": [
    "n.transpose(x17)"
   ]
  },
  {
   "cell_type": "code",
   "execution_count": 34,
   "metadata": {},
   "outputs": [
    {
     "data": {
      "text/plain": [
       "array([ 1,  3,  6,  6,  8,  9, 13, 15, 15, 16, 16, 17, 17, 18, 18,  3,  8,\n",
       "        2,  6,  4])"
      ]
     },
     "execution_count": 34,
     "metadata": {},
     "output_type": "execute_result"
    }
   ],
   "source": [
    "n.concatenate((x15,x16)) # same dimension."
   ]
  },
  {
   "cell_type": "code",
   "execution_count": 35,
   "metadata": {},
   "outputs": [
    {
     "data": {
      "text/plain": [
       "[array([1, 3, 6, 6, 8]),\n",
       " array([ 9, 13, 15, 15, 16]),\n",
       " array([16, 17, 17, 18, 18])]"
      ]
     },
     "execution_count": 35,
     "metadata": {},
     "output_type": "execute_result"
    }
   ],
   "source": [
    "# split array.  \n",
    "n.split(x15,3)"
   ]
  },
  {
   "cell_type": "markdown",
   "metadata": {},
   "source": [
    "$ mean (\\mu) = \\frac{sum \\ of \\ all \\ elements }{total \\ number \\ of \\ element}$"
   ]
  },
  {
   "cell_type": "code",
   "execution_count": 36,
   "metadata": {},
   "outputs": [
    {
     "data": {
      "text/plain": [
       "4.6"
      ]
     },
     "execution_count": 36,
     "metadata": {},
     "output_type": "execute_result"
    }
   ],
   "source": [
    "n.mean(x16)"
   ]
  },
  {
   "cell_type": "markdown",
   "metadata": {},
   "source": [
    "the standard deviation is a measure of how spread out numbers are.<br>\n",
    "$\\sigma = \\sqrt{\\frac{1}{N}\\displaystyle\\sum_{i=1}^N (x_i-\\mu)^2} $"
   ]
  },
  {
   "cell_type": "markdown",
   "metadata": {},
   "source": [
    "SD of x16 is <br>\n",
    "\n",
    "$x_1=(x[0]-\\mu)^2$\n",
    "........$ x_n=(x[n]-\\mu)^2$\n",
    "<br>\n",
    "$x_i = x_1+x_2+.......+x_n $ <br>\n",
    "where N= number of element\n",
    "\n",
    "\n"
   ]
  },
  {
   "cell_type": "code",
   "execution_count": 37,
   "metadata": {},
   "outputs": [
    {
     "data": {
      "text/plain": [
       "2.1540659228538015"
      ]
     },
     "execution_count": 37,
     "metadata": {},
     "output_type": "execute_result"
    }
   ],
   "source": [
    "# standard deviation\n",
    "n.std(x16)"
   ]
  },
  {
   "cell_type": "code",
   "execution_count": 10,
   "metadata": {},
   "outputs": [
    {
     "data": {
      "text/plain": [
       "array([ 9,  7,  7, 13, 10])"
      ]
     },
     "execution_count": 10,
     "metadata": {},
     "output_type": "execute_result"
    }
   ],
   "source": [
    "x18=n.array([2,5,3,5,8])\n",
    "n.add(x18,x16)"
   ]
  },
  {
   "cell_type": "code",
   "execution_count": 39,
   "metadata": {},
   "outputs": [
    {
     "data": {
      "text/plain": [
       "array([ 1,  3, -1,  1, -4])"
      ]
     },
     "execution_count": 39,
     "metadata": {},
     "output_type": "execute_result"
    }
   ],
   "source": [
    "n.subtract(x16,x18)"
   ]
  },
  {
   "cell_type": "code",
   "execution_count": 40,
   "metadata": {},
   "outputs": [
    {
     "data": {
      "text/plain": [
       "array([ 6, 40,  6, 30, 32])"
      ]
     },
     "execution_count": 40,
     "metadata": {},
     "output_type": "execute_result"
    }
   ],
   "source": [
    "n.multiply(x16,x18)"
   ]
  },
  {
   "cell_type": "code",
   "execution_count": 41,
   "metadata": {},
   "outputs": [
    {
     "data": {
      "text/plain": [
       "array([ 1,  3,  6,  6,  8,  9, 13, 15, 15, 16, 16, 17, 17, 18, 18])"
      ]
     },
     "execution_count": 41,
     "metadata": {},
     "output_type": "execute_result"
    }
   ],
   "source": [
    "n.ravel(x17) # change to 1 dim"
   ]
  },
  {
   "cell_type": "code",
   "execution_count": 42,
   "metadata": {},
   "outputs": [
    {
     "data": {
      "text/plain": [
       "array([[ 1,  3,  6],\n",
       "       [ 6,  8,  9],\n",
       "       [13, 15, 15],\n",
       "       [16, 16, 17],\n",
       "       [17, 18, 18]])"
      ]
     },
     "execution_count": 42,
     "metadata": {},
     "output_type": "execute_result"
    }
   ],
   "source": [
    "x17"
   ]
  },
  {
   "cell_type": "code",
   "execution_count": 8,
   "metadata": {},
   "outputs": [
    {
     "name": "stdout",
     "output_type": "stream",
     "text": [
      "[[17 23 21]\n",
      " [30 40 15]\n",
      " [27 29 43]\n",
      " [16 38 45]\n",
      " [40 44 47]]\n"
     ]
    }
   ],
   "source": [
    "x19=n.random.randint(11,50,15)\n",
    "x19=x19.reshape(5,3)\n",
    "print(x19)"
   ]
  },
  {
   "cell_type": "markdown",
   "metadata": {},
   "source": [
    "1. **Dot Product**:\n",
    "\n",
    "   Given two matrices **A**  and **B**, the dot product (also known as the inner product or scalar product) is calculated as follows:\n",
    "\n",
    "   $A \\cdot B = \\sum_{i=1}^{n} A_{ij} \\cdot B_{ji} $\n",
    "\n",
    "   In other words, to compute the dot product, we multiply corresponding elements of the matrices and then sum the results.\n",
    "\n",
    "   Example:\n",
    "   $\n",
    "   A = \\begin{bmatrix} \n",
    "   1 & 2 & 3 \\\\\n",
    "   4 & 5 & 6 \\\\\n",
    "   \\end{bmatrix}, \\quad\n",
    "   B = \\begin{bmatrix} \n",
    "   7 & 8 \\\\\n",
    "   9 & 10 \\\\\n",
    "   11 & 12 \\\\\n",
    "   \\end{bmatrix}\n",
    "   $\n",
    "\n",
    "  $\n",
    "   A \\cdot B = (1 \\cdot 7 + 2 \\cdot 9 + 3 \\cdot 11) + (4 \\cdot 8 + 5 \\cdot 10 + 6 \\cdot 12) = 58 + 139 = 197\n",
    "  $\n",
    "\n",
    "2. **Cross Product**:\n",
    "\n",
    "   The cross product of two matrices is defined only for matrices of dimension $3 \\times 1 $ or $ 1 \\times 3 $. Given two matrices **A** and **B**, the cross product is calculated as follows:\n",
    "\n",
    "   $ A \\times B = \\begin{bmatrix} a_1 \\\\ a_2 \\\\ a_3 \\end{bmatrix} \\times \\begin{bmatrix} b_1 \\\\ b_2 \\\\ b_3 \\end{bmatrix} = \\begin{bmatrix} a_2 \\cdot b_3 - a_3 \\cdot b_2 \\\\ a_3 \\cdot b_1 - a_1 \\cdot b_3 \\\\ a_1 \\cdot b_2 - a_2 \\cdot b_1 \\end{bmatrix} $ <br>\n",
    "\n",
    "   In other words, to compute the cross product, we calculate the determinants of 2x2 matrices formed by taking subsets of the elements of the matrices.\n",
    "\n",
    "   Example:\n",
    "  $\n",
    "   A = \\begin{bmatrix} 1 \\\\ 2 \\\\ 3 \\end{bmatrix}, \\quad\n",
    "   B = \\begin{bmatrix} 4 \\\\ 5 \\\\ 6 \\end{bmatrix}$\n",
    "\n",
    "   \n",
    "   $A \\times B = \\begin{bmatrix} (2 \\cdot 6) - (3 \\cdot 5) \\\\ (3 \\cdot 4) - (1 \\cdot 6) \\\\ (1 \\cdot 5) - (2 \\cdot 4) \\end{bmatrix} = \\begin{bmatrix} -3 \\\\ 6 \\\\ -3 \\end{bmatrix}\n",
    " $\n",
    "\n",
    "These examples demonstrate how to compute the dot product and cross product of matrices using mathematical notation."
   ]
  },
  {
   "cell_type": "code",
   "execution_count": 15,
   "metadata": {},
   "outputs": [
    {
     "data": {
      "text/plain": [
       "array([143, 157, 186])"
      ]
     },
     "execution_count": 15,
     "metadata": {},
     "output_type": "execute_result"
    }
   ],
   "source": [
    "n.dot(x16,x17)"
   ]
  },
  {
   "cell_type": "code",
   "execution_count": 12,
   "metadata": {},
   "outputs": [
    {
     "data": {
      "text/plain": [
       "array([[  25,  -13,   -6],\n",
       "       [ 140,  -90,  -40],\n",
       "       [ -55,   26,   17],\n",
       "       [   6,  213, -182],\n",
       "       [ -57,   86,  -32]])"
      ]
     },
     "execution_count": 12,
     "metadata": {},
     "output_type": "execute_result"
    }
   ],
   "source": [
    "n.cross(x19,x17)    "
   ]
  },
  {
   "cell_type": "code",
   "execution_count": 16,
   "metadata": {},
   "outputs": [
    {
     "data": {
      "text/plain": [
       "array([1096.63315843,    7.3890561 ,   54.59815003, 2980.95798704,\n",
       "          7.3890561 ])"
      ]
     },
     "execution_count": 16,
     "metadata": {},
     "output_type": "execute_result"
    }
   ],
   "source": [
    "n.exp(x16)"
   ]
  },
  {
   "cell_type": "code",
   "execution_count": 17,
   "metadata": {},
   "outputs": [
    {
     "data": {
      "text/plain": [
       "array([1.94591015, 0.69314718, 1.38629436, 2.07944154, 0.69314718])"
      ]
     },
     "execution_count": 17,
     "metadata": {},
     "output_type": "execute_result"
    }
   ],
   "source": [
    "n.log(x16)"
   ]
  },
  {
   "cell_type": "code",
   "execution_count": 18,
   "metadata": {},
   "outputs": [
    {
     "data": {
      "text/plain": [
       "array([ 0.6569866 ,  0.90929743, -0.7568025 ,  0.98935825,  0.90929743])"
      ]
     },
     "execution_count": 18,
     "metadata": {},
     "output_type": "execute_result"
    }
   ],
   "source": [
    "n.sin(x16)"
   ]
  },
  {
   "cell_type": "code",
   "execution_count": 19,
   "metadata": {},
   "outputs": [
    {
     "data": {
      "text/plain": [
       "array([ 0.75390225, -0.41614684, -0.65364362, -0.14550003, -0.41614684])"
      ]
     },
     "execution_count": 19,
     "metadata": {},
     "output_type": "execute_result"
    }
   ],
   "source": [
    "n.cos(x16)"
   ]
  },
  {
   "cell_type": "code",
   "execution_count": 20,
   "metadata": {},
   "outputs": [
    {
     "data": {
      "text/plain": [
       "array([ 0.87144798, -2.18503986,  1.15782128, -6.79971146, -2.18503986])"
      ]
     },
     "execution_count": 20,
     "metadata": {},
     "output_type": "execute_result"
    }
   ],
   "source": [
    "n.tan(x16)\n"
   ]
  },
  {
   "cell_type": "code",
   "execution_count": 21,
   "metadata": {},
   "outputs": [],
   "source": [
    "x20=n.array([[1., 2.], [3., 4.]])"
   ]
  },
  {
   "cell_type": "markdown",
   "metadata": {},
   "source": [
    "matrix operations in linear algebra.\n",
    "\n",
    "$2x + 3y = 8$ <br> \n",
    "$4x - 2y = 2 $\n",
    "\n",
    "We can represent this system of equations in matrix form as:\n",
    "\n",
    "$\n",
    "\\begin{bmatrix} 2 & 3 \\\\ 4 & -2 \\end{bmatrix} \\begin{bmatrix} x \\\\ y \\end{bmatrix} = \\begin{bmatrix} 8 \\\\ 2 \\end{bmatrix}\n",
    "$\n",
    "\n",
    "To solve this system of equations, we can use matrix operations. First, let's denote the coefficient matrix as **A** the variable matrix as ***x*** and the constant matrix as **B**\n",
    "\n",
    "$\n",
    "A = \\begin{bmatrix} 2 & 3 \\\\ 4 & -2 \\end{bmatrix}, \\quad X = \\begin{bmatrix} x \\\\ y \\end{bmatrix}, \\quad B = \\begin{bmatrix} 8 \\\\ 2 \\end{bmatrix}\n",
    "$\n",
    "\n",
    "To find the solution for \\( X \\), we can use the formula:\n",
    "\n",
    "\\[\n",
    "X = A^{-1} B\n",
    "\\]\n",
    "\n",
    "where $ A^{-1}$ is the inverse of matrix A.\n",
    "\n",
    "Now, let's perform the matrix operations to find the solution:\n",
    "\n",
    "1. Calculate the inverse of matrix A:\n",
    "\n",
    "$\n",
    "A^{-1} = \\frac{1}{\\text{det}(A)} \\text{adj}(A)\n",
    "$\n",
    "\n",
    "2. Calculate the determinant of matrix A:\n",
    "\n",
    "$\n",
    "\\text{det}(A) = (2 \\times -2) - (3 \\times 4) = -4 - 12 = -16\n",
    "$\n",
    "\n",
    "3. Calculate the adjugate of matrix A:\n",
    "\n",
    "$\n",
    "\\text{adj}(A) = \\begin{bmatrix} -2 & -3 \\\\ -4 & 2 \\end{bmatrix}\n",
    "$\n",
    "\n",
    "4. Calculate the inverse of matrix A:\n",
    "\n",
    "$\n",
    "A^{-1} = \\frac{1}{-16} \\begin{bmatrix} -2 & -3 \\\\ -4 & 2 \\end{bmatrix} = \\begin{bmatrix} \\frac{1}{8} & \\frac{3}{16} \\\\ \\frac{1}{4} & -\\frac{1}{8} \\end{bmatrix}\n",
    "$\n",
    "\n",
    "5. Multiply $ A^{-1}$ by matrix  B  to find the solution matrix X:\n",
    "\n",
    "$\n",
    "X = A^{-1} B = \\begin{bmatrix} \\frac{1}{8} & \\frac{3}{16} \\\\ \\frac{1}{4} & -\\frac{1}{8} \\end{bmatrix} \\begin{bmatrix} 8 \\\\ 2 \\end{bmatrix} = \\begin{bmatrix} 1 \\\\ 2 \\end{bmatrix}\n",
    "$\n",
    "\n",
    "So, the solution to the system of linear equations is \\( x = 1 \\) and \\( y = 2 \\)."
   ]
  },
  {
   "cell_type": "code",
   "execution_count": 22,
   "metadata": {},
   "outputs": [
    {
     "data": {
      "text/plain": [
       "array([[-2. ,  1. ],\n",
       "       [ 1.5, -0.5]])"
      ]
     },
     "execution_count": 22,
     "metadata": {},
     "output_type": "execute_result"
    }
   ],
   "source": [
    "n.linalg.inv(x20) # minimum 2-dim"
   ]
  },
  {
   "cell_type": "code",
   "execution_count": 23,
   "metadata": {},
   "outputs": [
    {
     "data": {
      "text/plain": [
       "-2.0000000000000004"
      ]
     },
     "execution_count": 23,
     "metadata": {},
     "output_type": "execute_result"
    }
   ],
   "source": [
    "n.linalg.det(x20) # Determinant of a matrix."
   ]
  },
  {
   "cell_type": "code",
   "execution_count": 53,
   "metadata": {},
   "outputs": [
    {
     "data": {
      "text/plain": [
       "EigResult(eigenvalues=array([-0.37228132,  5.37228132]), eigenvectors=array([[-0.82456484, -0.41597356],\n",
       "       [ 0.56576746, -0.90937671]]))"
      ]
     },
     "execution_count": 53,
     "metadata": {},
     "output_type": "execute_result"
    }
   ],
   "source": [
    "n.linalg.eig(x20) # Eigenvalues and eigenvectors of a square matrix."
   ]
  },
  {
   "cell_type": "code",
   "execution_count": 54,
   "metadata": {},
   "outputs": [
    {
     "data": {
      "text/plain": [
       "array([[ 1,  3,  6],\n",
       "       [ 6,  8,  9],\n",
       "       [13, 15, 15],\n",
       "       [16, 16, 17],\n",
       "       [17, 18, 18]])"
      ]
     },
     "execution_count": 54,
     "metadata": {},
     "output_type": "execute_result"
    }
   ],
   "source": [
    "x17"
   ]
  },
  {
   "cell_type": "code",
   "execution_count": 24,
   "metadata": {},
   "outputs": [],
   "source": [
    "x21=n.array([[2,5,4],[98,75,95],[75,64,26]])\n",
    "x22=n.array([54,69,78])"
   ]
  },
  {
   "cell_type": "code",
   "execution_count": 25,
   "metadata": {},
   "outputs": [
    {
     "data": {
      "text/plain": [
       "array([-11.65839772,  14.28002091,   1.47917272])"
      ]
     },
     "execution_count": 25,
     "metadata": {},
     "output_type": "execute_result"
    }
   ],
   "source": [
    "n.linalg.solve(x21,x22)"
   ]
  },
  {
   "cell_type": "code",
   "execution_count": 26,
   "metadata": {},
   "outputs": [
    {
     "data": {
      "text/plain": [
       "17212.999999999993"
      ]
     },
     "execution_count": 26,
     "metadata": {},
     "output_type": "execute_result"
    }
   ],
   "source": [
    "n.linalg.det(x21)"
   ]
  },
  {
   "cell_type": "code",
   "execution_count": 27,
   "metadata": {},
   "outputs": [
    {
     "data": {
      "text/plain": [
       "5.0"
      ]
     },
     "execution_count": 27,
     "metadata": {},
     "output_type": "execute_result"
    }
   ],
   "source": [
    "n.percentile(x15,42)"
   ]
  },
  {
   "cell_type": "code",
   "execution_count": 28,
   "metadata": {},
   "outputs": [
    {
     "data": {
      "text/plain": [
       "array([ 1,  1,  2,  4,  4,  5,  5,  6,  7,  9, 10, 12, 18, 19, 19])"
      ]
     },
     "execution_count": 28,
     "metadata": {},
     "output_type": "execute_result"
    }
   ],
   "source": [
    "n.sort(x15)"
   ]
  },
  {
   "cell_type": "code",
   "execution_count": null,
   "metadata": {},
   "outputs": [],
   "source": []
  }
 ],
 "metadata": {
  "kernelspec": {
   "display_name": "Python 3 (ipykernel)",
   "language": "python",
   "name": "python3"
  },
  "language_info": {
   "codemirror_mode": {
    "name": "ipython",
    "version": 3
   },
   "file_extension": ".py",
   "mimetype": "text/x-python",
   "name": "python",
   "nbconvert_exporter": "python",
   "pygments_lexer": "ipython3",
   "version": "3.12.3"
  }
 },
 "nbformat": 4,
 "nbformat_minor": 4
}
