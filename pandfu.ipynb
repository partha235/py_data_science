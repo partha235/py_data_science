{
 "cells": [
  {
   "cell_type": "markdown",
   "metadata": {},
   "source": [
    "# <span style=\"color:orange\">Pandas</span>"
   ]
  },
  {
   "cell_type": "markdown",
   "metadata": {},
   "source": [
    "widely used for data manipulation and analysis."
   ]
  },
  {
   "cell_type": "code",
   "execution_count": 36,
   "metadata": {
    "metadata": {}
   },
   "outputs": [],
   "source": [
    "import pandas as pd\n",
    "import numpy as np"
   ]
  },
  {
   "cell_type": "code",
   "execution_count": 37,
   "metadata": {
    "metadata": {}
   },
   "outputs": [
    {
     "data": {
      "text/plain": [
       "['ArrowDtype',\n",
       " 'BooleanDtype',\n",
       " 'Categorical',\n",
       " 'CategoricalDtype',\n",
       " 'CategoricalIndex',\n",
       " 'DataFrame',\n",
       " 'DateOffset',\n",
       " 'DatetimeIndex',\n",
       " 'DatetimeTZDtype',\n",
       " 'ExcelFile',\n",
       " 'ExcelWriter',\n",
       " 'Flags',\n",
       " 'Float32Dtype',\n",
       " 'Float64Dtype',\n",
       " 'Float64Index',\n",
       " 'Grouper',\n",
       " 'HDFStore',\n",
       " 'Index',\n",
       " 'IndexSlice',\n",
       " 'Int16Dtype',\n",
       " 'Int32Dtype',\n",
       " 'Int64Dtype',\n",
       " 'Int64Index',\n",
       " 'Int8Dtype',\n",
       " 'Interval',\n",
       " 'IntervalDtype',\n",
       " 'IntervalIndex',\n",
       " 'MultiIndex',\n",
       " 'NA',\n",
       " 'NaT',\n",
       " 'NamedAgg',\n",
       " 'Period',\n",
       " 'PeriodDtype',\n",
       " 'PeriodIndex',\n",
       " 'RangeIndex',\n",
       " 'Series',\n",
       " 'SparseDtype',\n",
       " 'StringDtype',\n",
       " 'Timedelta',\n",
       " 'TimedeltaIndex',\n",
       " 'Timestamp',\n",
       " 'UInt16Dtype',\n",
       " 'UInt32Dtype',\n",
       " 'UInt64Dtype',\n",
       " 'UInt64Index',\n",
       " 'UInt8Dtype',\n",
       " '__all__',\n",
       " '__builtins__',\n",
       " '__cached__',\n",
       " '__deprecated_num_index_names',\n",
       " '__dir__',\n",
       " '__doc__',\n",
       " '__docformat__',\n",
       " '__file__',\n",
       " '__getattr__',\n",
       " '__git_version__',\n",
       " '__loader__',\n",
       " '__name__',\n",
       " '__package__',\n",
       " '__path__',\n",
       " '__spec__',\n",
       " '__version__',\n",
       " '_config',\n",
       " '_is_numpy_dev',\n",
       " '_libs',\n",
       " '_testing',\n",
       " '_typing',\n",
       " '_version',\n",
       " 'annotations',\n",
       " 'api',\n",
       " 'array',\n",
       " 'arrays',\n",
       " 'bdate_range',\n",
       " 'compat',\n",
       " 'concat',\n",
       " 'core',\n",
       " 'crosstab',\n",
       " 'cut',\n",
       " 'date_range',\n",
       " 'describe_option',\n",
       " 'errors',\n",
       " 'eval',\n",
       " 'factorize',\n",
       " 'from_dummies',\n",
       " 'get_dummies',\n",
       " 'get_option',\n",
       " 'infer_freq',\n",
       " 'interval_range',\n",
       " 'io',\n",
       " 'isna',\n",
       " 'isnull',\n",
       " 'json_normalize',\n",
       " 'lreshape',\n",
       " 'melt',\n",
       " 'merge',\n",
       " 'merge_asof',\n",
       " 'merge_ordered',\n",
       " 'notna',\n",
       " 'notnull',\n",
       " 'offsets',\n",
       " 'option_context',\n",
       " 'options',\n",
       " 'pandas',\n",
       " 'period_range',\n",
       " 'pivot',\n",
       " 'pivot_table',\n",
       " 'plotting',\n",
       " 'qcut',\n",
       " 'read_clipboard',\n",
       " 'read_csv',\n",
       " 'read_excel',\n",
       " 'read_feather',\n",
       " 'read_fwf',\n",
       " 'read_gbq',\n",
       " 'read_hdf',\n",
       " 'read_html',\n",
       " 'read_json',\n",
       " 'read_orc',\n",
       " 'read_parquet',\n",
       " 'read_pickle',\n",
       " 'read_sas',\n",
       " 'read_spss',\n",
       " 'read_sql',\n",
       " 'read_sql_query',\n",
       " 'read_sql_table',\n",
       " 'read_stata',\n",
       " 'read_table',\n",
       " 'read_xml',\n",
       " 'reset_option',\n",
       " 'set_eng_float_format',\n",
       " 'set_option',\n",
       " 'show_versions',\n",
       " 'test',\n",
       " 'testing',\n",
       " 'timedelta_range',\n",
       " 'to_datetime',\n",
       " 'to_numeric',\n",
       " 'to_pickle',\n",
       " 'to_timedelta',\n",
       " 'tseries',\n",
       " 'unique',\n",
       " 'util',\n",
       " 'value_counts',\n",
       " 'wide_to_long']"
      ]
     },
     "execution_count": 37,
     "metadata": {},
     "output_type": "execute_result"
    }
   ],
   "source": [
    "dir(pd)"
   ]
  },
  {
   "cell_type": "code",
   "execution_count": 38,
   "metadata": {
    "metadata": {}
   },
   "outputs": [
    {
     "name": "stdout",
     "output_type": "stream",
     "text": [
      "x1 =  [34 40 22 38  9 45 40 35 29 40]\n"
     ]
    }
   ],
   "source": [
    "x1=np.random.randint(1,50,10)\n",
    "print(\"x1 = \",x1)"
   ]
  },
  {
   "cell_type": "code",
   "execution_count": 39,
   "metadata": {
    "metadata": {}
   },
   "outputs": [
    {
     "name": "stdout",
     "output_type": "stream",
     "text": [
      "0    34\n",
      "1    40\n",
      "2    22\n",
      "3    38\n",
      "4     9\n",
      "5    45\n",
      "6    40\n",
      "7    35\n",
      "8    29\n",
      "9    40\n",
      "dtype: int64\n"
     ]
    }
   ],
   "source": [
    "sd1=pd.Series(x1)\n",
    "print(sd1)"
   ]
  },
  {
   "cell_type": "code",
   "execution_count": 40,
   "metadata": {
    "metadata": {}
   },
   "outputs": [
    {
     "name": "stdout",
     "output_type": "stream",
     "text": [
      "Tamil      65\n",
      "English    75\n",
      "Math       27\n",
      "Science    33\n",
      "Social     50\n",
      "Name: hari_mark, dtype: int64\n"
     ]
    }
   ],
   "source": [
    "x2=np.random.randint(25,100,5)\n",
    "sd2=pd.Series(x2,index=[\"Tamil\",\"English\",\"Math\",\"Science\",\"Social\"],name=\"hari_mark\")\n",
    "print(sd2)\n"
   ]
  },
  {
   "cell_type": "code",
   "execution_count": 41,
   "metadata": {
    "metadata": {}
   },
   "outputs": [
    {
     "name": "stdout",
     "output_type": "stream",
     "text": [
      "suppu    [56, 31, 56]\n",
      "hari     [65, 63, 48]\n",
      "dtype: object\n"
     ]
    }
   ],
   "source": [
    "d1={\"suppu\":[56,31,56],\"hari\":[65,63,48]}\n",
    "sd3=pd.Series(d1)\n",
    "print(sd3)"
   ]
  },
  {
   "cell_type": "code",
   "execution_count": 42,
   "metadata": {
    "metadata": {}
   },
   "outputs": [
    {
     "data": {
      "text/plain": [
       "Tamil      65\n",
       "English    75\n",
       "Name: hari_mark, dtype: int64"
      ]
     },
     "execution_count": 42,
     "metadata": {},
     "output_type": "execute_result"
    }
   ],
   "source": [
    "sd2[[\"Tamil\",\"English\"]]"
   ]
  },
  {
   "cell_type": "code",
   "execution_count": 43,
   "metadata": {
    "metadata": {}
   },
   "outputs": [
    {
     "name": "stdout",
     "output_type": "stream",
     "text": [
      "  laptop      mobile\n",
      "0     i7  snapdragon\n",
      "1    8GB         6GB\n",
      "2    1TB         128\n"
     ]
    }
   ],
   "source": [
    "x3={\"laptop\":[\"i7\",\"8GB\",\"1TB\"],\"mobile\":[\"snapdragon\",\"6GB\",\"128\"]}\n",
    "ds1=pd.DataFrame(x3)\n",
    "print(ds1)"
   ]
  },
  {
   "cell_type": "code",
   "execution_count": 44,
   "metadata": {
    "metadata": {}
   },
   "outputs": [
    {
     "name": "stdout",
     "output_type": "stream",
     "text": [
      "          laptop      mobile\n",
      "processor     i7  snapdragon\n",
      "RAM          8GB         6GB\n",
      "Memory       1TB         128\n"
     ]
    }
   ],
   "source": [
    "x4={\"laptop\":[\"i7\",\"8GB\",\"1TB\"],\"mobile\":[\"snapdragon\",\"6GB\",\"128\"]}\n",
    "ds2=pd.DataFrame(x4,index=[\"processor\",\"RAM\",\"Memory\"])\n",
    "print(ds2)"
   ]
  },
  {
   "cell_type": "code",
   "execution_count": 45,
   "metadata": {
    "metadata": {}
   },
   "outputs": [],
   "source": [
    "ds2.insert(0,\"PC\",[\"i9\",\"32GB\",\"2TB\"])"
   ]
  },
  {
   "cell_type": "code",
   "execution_count": 46,
   "metadata": {
    "metadata": {}
   },
   "outputs": [
    {
     "data": {
      "text/html": [
       "<div>\n",
       "<style scoped>\n",
       "    .dataframe tbody tr th:only-of-type {\n",
       "        vertical-align: middle;\n",
       "    }\n",
       "\n",
       "    .dataframe tbody tr th {\n",
       "        vertical-align: top;\n",
       "    }\n",
       "\n",
       "    .dataframe thead th {\n",
       "        text-align: right;\n",
       "    }\n",
       "</style>\n",
       "<table border=\"1\" class=\"dataframe\">\n",
       "  <thead>\n",
       "    <tr style=\"text-align: right;\">\n",
       "      <th></th>\n",
       "      <th>PC</th>\n",
       "      <th>laptop</th>\n",
       "      <th>mobile</th>\n",
       "    </tr>\n",
       "  </thead>\n",
       "  <tbody>\n",
       "    <tr>\n",
       "      <th>processor</th>\n",
       "      <td>i9</td>\n",
       "      <td>i7</td>\n",
       "      <td>snapdragon</td>\n",
       "    </tr>\n",
       "    <tr>\n",
       "      <th>RAM</th>\n",
       "      <td>32GB</td>\n",
       "      <td>8GB</td>\n",
       "      <td>6GB</td>\n",
       "    </tr>\n",
       "    <tr>\n",
       "      <th>Memory</th>\n",
       "      <td>2TB</td>\n",
       "      <td>1TB</td>\n",
       "      <td>128</td>\n",
       "    </tr>\n",
       "  </tbody>\n",
       "</table>\n",
       "</div>"
      ],
      "text/plain": [
       "             PC laptop      mobile\n",
       "processor    i9     i7  snapdragon\n",
       "RAM        32GB    8GB         6GB\n",
       "Memory      2TB    1TB         128"
      ]
     },
     "execution_count": 46,
     "metadata": {},
     "output_type": "execute_result"
    }
   ],
   "source": [
    "ds2"
   ]
  },
  {
   "cell_type": "code",
   "execution_count": 47,
   "metadata": {
    "metadata": {}
   },
   "outputs": [
    {
     "data": {
      "text/plain": [
       "processor      i9\n",
       "RAM          32GB\n",
       "Memory        2TB\n",
       "Name: PC, dtype: object"
      ]
     },
     "execution_count": 47,
     "metadata": {},
     "output_type": "execute_result"
    }
   ],
   "source": [
    "ds2[\"PC\"]"
   ]
  },
  {
   "cell_type": "code",
   "execution_count": 48,
   "metadata": {
    "metadata": {}
   },
   "outputs": [
    {
     "data": {
      "text/plain": [
       "PC        32GB\n",
       "laptop     8GB\n",
       "mobile     6GB\n",
       "Name: RAM, dtype: object"
      ]
     },
     "execution_count": 48,
     "metadata": {},
     "output_type": "execute_result"
    }
   ],
   "source": [
    "ds2.loc['RAM']"
   ]
  },
  {
   "cell_type": "code",
   "execution_count": 49,
   "metadata": {
    "metadata": {}
   },
   "outputs": [
    {
     "data": {
      "text/plain": [
       "PC        2TB\n",
       "laptop    1TB\n",
       "mobile    128\n",
       "Name: Memory, dtype: object"
      ]
     },
     "execution_count": 49,
     "metadata": {},
     "output_type": "execute_result"
    }
   ],
   "source": [
    "ds2.iloc[2]"
   ]
  },
  {
   "cell_type": "code",
   "execution_count": 50,
   "metadata": {
    "metadata": {}
   },
   "outputs": [],
   "source": [
    "ds3=pd.read_excel(\"all_shifts.xlsx\")"
   ]
  },
  {
   "cell_type": "code",
   "execution_count": 51,
   "metadata": {
    "metadata": {}
   },
   "outputs": [
    {
     "data": {
      "text/html": [
       "<div>\n",
       "<style scoped>\n",
       "    .dataframe tbody tr th:only-of-type {\n",
       "        vertical-align: middle;\n",
       "    }\n",
       "\n",
       "    .dataframe tbody tr th {\n",
       "        vertical-align: top;\n",
       "    }\n",
       "\n",
       "    .dataframe thead th {\n",
       "        text-align: right;\n",
       "    }\n",
       "</style>\n",
       "<table border=\"1\" class=\"dataframe\">\n",
       "  <thead>\n",
       "    <tr style=\"text-align: right;\">\n",
       "      <th></th>\n",
       "      <th>Shift</th>\n",
       "      <th>Region</th>\n",
       "      <th>Sales Rep</th>\n",
       "      <th>Product</th>\n",
       "      <th>Cost per</th>\n",
       "      <th>Units Sold</th>\n",
       "    </tr>\n",
       "  </thead>\n",
       "  <tbody>\n",
       "    <tr>\n",
       "      <th>0</th>\n",
       "      <td>1</td>\n",
       "      <td>South</td>\n",
       "      <td>Meggan</td>\n",
       "      <td>Paper</td>\n",
       "      <td>15</td>\n",
       "      <td>163</td>\n",
       "    </tr>\n",
       "    <tr>\n",
       "      <th>1</th>\n",
       "      <td>1</td>\n",
       "      <td>South</td>\n",
       "      <td>Charis</td>\n",
       "      <td>Stapler</td>\n",
       "      <td>25</td>\n",
       "      <td>108</td>\n",
       "    </tr>\n",
       "    <tr>\n",
       "      <th>2</th>\n",
       "      <td>1</td>\n",
       "      <td>South</td>\n",
       "      <td>Shayne</td>\n",
       "      <td>Pencil</td>\n",
       "      <td>5</td>\n",
       "      <td>118</td>\n",
       "    </tr>\n",
       "    <tr>\n",
       "      <th>3</th>\n",
       "      <td>1</td>\n",
       "      <td>North</td>\n",
       "      <td>Krystin</td>\n",
       "      <td>Pen</td>\n",
       "      <td>10</td>\n",
       "      <td>37</td>\n",
       "    </tr>\n",
       "    <tr>\n",
       "      <th>4</th>\n",
       "      <td>1</td>\n",
       "      <td>South</td>\n",
       "      <td>Leo</td>\n",
       "      <td>Paper</td>\n",
       "      <td>15</td>\n",
       "      <td>131</td>\n",
       "    </tr>\n",
       "    <tr>\n",
       "      <th>...</th>\n",
       "      <td>...</td>\n",
       "      <td>...</td>\n",
       "      <td>...</td>\n",
       "      <td>...</td>\n",
       "      <td>...</td>\n",
       "      <td>...</td>\n",
       "    </tr>\n",
       "    <tr>\n",
       "      <th>293</th>\n",
       "      <td>3</td>\n",
       "      <td>South</td>\n",
       "      <td>Willa</td>\n",
       "      <td>Pen</td>\n",
       "      <td>10</td>\n",
       "      <td>42</td>\n",
       "    </tr>\n",
       "    <tr>\n",
       "      <th>294</th>\n",
       "      <td>3</td>\n",
       "      <td>West</td>\n",
       "      <td>Shayne</td>\n",
       "      <td>Paper</td>\n",
       "      <td>15</td>\n",
       "      <td>168</td>\n",
       "    </tr>\n",
       "    <tr>\n",
       "      <th>295</th>\n",
       "      <td>3</td>\n",
       "      <td>East</td>\n",
       "      <td>Adrian</td>\n",
       "      <td>Binder</td>\n",
       "      <td>30</td>\n",
       "      <td>132</td>\n",
       "    </tr>\n",
       "    <tr>\n",
       "      <th>296</th>\n",
       "      <td>3</td>\n",
       "      <td>East</td>\n",
       "      <td>Willa</td>\n",
       "      <td>Paper</td>\n",
       "      <td>15</td>\n",
       "      <td>111</td>\n",
       "    </tr>\n",
       "    <tr>\n",
       "      <th>297</th>\n",
       "      <td>3</td>\n",
       "      <td>East</td>\n",
       "      <td>Diann</td>\n",
       "      <td>Folder</td>\n",
       "      <td>17</td>\n",
       "      <td>151</td>\n",
       "    </tr>\n",
       "  </tbody>\n",
       "</table>\n",
       "<p>298 rows × 6 columns</p>\n",
       "</div>"
      ],
      "text/plain": [
       "     Shift Region Sales Rep  Product  Cost per  Units Sold\n",
       "0        1  South    Meggan    Paper        15         163\n",
       "1        1  South    Charis  Stapler        25         108\n",
       "2        1  South    Shayne   Pencil         5         118\n",
       "3        1  North   Krystin      Pen        10          37\n",
       "4        1  South       Leo    Paper        15         131\n",
       "..     ...    ...       ...      ...       ...         ...\n",
       "293      3  South     Willa      Pen        10          42\n",
       "294      3   West    Shayne    Paper        15         168\n",
       "295      3   East    Adrian   Binder        30         132\n",
       "296      3   East     Willa    Paper        15         111\n",
       "297      3   East     Diann   Folder        17         151\n",
       "\n",
       "[298 rows x 6 columns]"
      ]
     },
     "execution_count": 51,
     "metadata": {},
     "output_type": "execute_result"
    }
   ],
   "source": [
    "ds3"
   ]
  },
  {
   "cell_type": "code",
   "execution_count": 52,
   "metadata": {
    "metadata": {}
   },
   "outputs": [
    {
     "data": {
      "text/html": [
       "<div>\n",
       "<style scoped>\n",
       "    .dataframe tbody tr th:only-of-type {\n",
       "        vertical-align: middle;\n",
       "    }\n",
       "\n",
       "    .dataframe tbody tr th {\n",
       "        vertical-align: top;\n",
       "    }\n",
       "\n",
       "    .dataframe thead th {\n",
       "        text-align: right;\n",
       "    }\n",
       "</style>\n",
       "<table border=\"1\" class=\"dataframe\">\n",
       "  <thead>\n",
       "    <tr style=\"text-align: right;\">\n",
       "      <th></th>\n",
       "      <th>Shift</th>\n",
       "      <th>Region</th>\n",
       "      <th>Sales Rep</th>\n",
       "      <th>Product</th>\n",
       "      <th>Cost per</th>\n",
       "      <th>Units Sold</th>\n",
       "    </tr>\n",
       "  </thead>\n",
       "  <tbody>\n",
       "    <tr>\n",
       "      <th>0</th>\n",
       "      <td>1</td>\n",
       "      <td>South</td>\n",
       "      <td>Meggan</td>\n",
       "      <td>Paper</td>\n",
       "      <td>15</td>\n",
       "      <td>163</td>\n",
       "    </tr>\n",
       "    <tr>\n",
       "      <th>1</th>\n",
       "      <td>1</td>\n",
       "      <td>South</td>\n",
       "      <td>Charis</td>\n",
       "      <td>Stapler</td>\n",
       "      <td>25</td>\n",
       "      <td>108</td>\n",
       "    </tr>\n",
       "    <tr>\n",
       "      <th>2</th>\n",
       "      <td>1</td>\n",
       "      <td>South</td>\n",
       "      <td>Shayne</td>\n",
       "      <td>Pencil</td>\n",
       "      <td>5</td>\n",
       "      <td>118</td>\n",
       "    </tr>\n",
       "    <tr>\n",
       "      <th>3</th>\n",
       "      <td>1</td>\n",
       "      <td>North</td>\n",
       "      <td>Krystin</td>\n",
       "      <td>Pen</td>\n",
       "      <td>10</td>\n",
       "      <td>37</td>\n",
       "    </tr>\n",
       "    <tr>\n",
       "      <th>4</th>\n",
       "      <td>1</td>\n",
       "      <td>South</td>\n",
       "      <td>Leo</td>\n",
       "      <td>Paper</td>\n",
       "      <td>15</td>\n",
       "      <td>131</td>\n",
       "    </tr>\n",
       "  </tbody>\n",
       "</table>\n",
       "</div>"
      ],
      "text/plain": [
       "   Shift Region Sales Rep  Product  Cost per  Units Sold\n",
       "0      1  South    Meggan    Paper        15         163\n",
       "1      1  South    Charis  Stapler        25         108\n",
       "2      1  South    Shayne   Pencil         5         118\n",
       "3      1  North   Krystin      Pen        10          37\n",
       "4      1  South       Leo    Paper        15         131"
      ]
     },
     "execution_count": 52,
     "metadata": {},
     "output_type": "execute_result"
    }
   ],
   "source": [
    "ds3.head()"
   ]
  },
  {
   "cell_type": "code",
   "execution_count": 53,
   "metadata": {
    "metadata": {}
   },
   "outputs": [
    {
     "data": {
      "text/html": [
       "<div>\n",
       "<style scoped>\n",
       "    .dataframe tbody tr th:only-of-type {\n",
       "        vertical-align: middle;\n",
       "    }\n",
       "\n",
       "    .dataframe tbody tr th {\n",
       "        vertical-align: top;\n",
       "    }\n",
       "\n",
       "    .dataframe thead th {\n",
       "        text-align: right;\n",
       "    }\n",
       "</style>\n",
       "<table border=\"1\" class=\"dataframe\">\n",
       "  <thead>\n",
       "    <tr style=\"text-align: right;\">\n",
       "      <th></th>\n",
       "      <th>Shift</th>\n",
       "      <th>Region</th>\n",
       "      <th>Sales Rep</th>\n",
       "      <th>Product</th>\n",
       "      <th>Cost per</th>\n",
       "      <th>Units Sold</th>\n",
       "    </tr>\n",
       "  </thead>\n",
       "  <tbody>\n",
       "    <tr>\n",
       "      <th>293</th>\n",
       "      <td>3</td>\n",
       "      <td>South</td>\n",
       "      <td>Willa</td>\n",
       "      <td>Pen</td>\n",
       "      <td>10</td>\n",
       "      <td>42</td>\n",
       "    </tr>\n",
       "    <tr>\n",
       "      <th>294</th>\n",
       "      <td>3</td>\n",
       "      <td>West</td>\n",
       "      <td>Shayne</td>\n",
       "      <td>Paper</td>\n",
       "      <td>15</td>\n",
       "      <td>168</td>\n",
       "    </tr>\n",
       "    <tr>\n",
       "      <th>295</th>\n",
       "      <td>3</td>\n",
       "      <td>East</td>\n",
       "      <td>Adrian</td>\n",
       "      <td>Binder</td>\n",
       "      <td>30</td>\n",
       "      <td>132</td>\n",
       "    </tr>\n",
       "    <tr>\n",
       "      <th>296</th>\n",
       "      <td>3</td>\n",
       "      <td>East</td>\n",
       "      <td>Willa</td>\n",
       "      <td>Paper</td>\n",
       "      <td>15</td>\n",
       "      <td>111</td>\n",
       "    </tr>\n",
       "    <tr>\n",
       "      <th>297</th>\n",
       "      <td>3</td>\n",
       "      <td>East</td>\n",
       "      <td>Diann</td>\n",
       "      <td>Folder</td>\n",
       "      <td>17</td>\n",
       "      <td>151</td>\n",
       "    </tr>\n",
       "  </tbody>\n",
       "</table>\n",
       "</div>"
      ],
      "text/plain": [
       "     Shift Region Sales Rep Product  Cost per  Units Sold\n",
       "293      3  South     Willa     Pen        10          42\n",
       "294      3   West    Shayne   Paper        15         168\n",
       "295      3   East    Adrian  Binder        30         132\n",
       "296      3   East     Willa   Paper        15         111\n",
       "297      3   East     Diann  Folder        17         151"
      ]
     },
     "execution_count": 53,
     "metadata": {},
     "output_type": "execute_result"
    }
   ],
   "source": [
    "ds3.tail()"
   ]
  },
  {
   "cell_type": "code",
   "execution_count": 54,
   "metadata": {
    "metadata": {}
   },
   "outputs": [
    {
     "data": {
      "text/html": [
       "<div>\n",
       "<style scoped>\n",
       "    .dataframe tbody tr th:only-of-type {\n",
       "        vertical-align: middle;\n",
       "    }\n",
       "\n",
       "    .dataframe tbody tr th {\n",
       "        vertical-align: top;\n",
       "    }\n",
       "\n",
       "    .dataframe thead th {\n",
       "        text-align: right;\n",
       "    }\n",
       "</style>\n",
       "<table border=\"1\" class=\"dataframe\">\n",
       "  <thead>\n",
       "    <tr style=\"text-align: right;\">\n",
       "      <th></th>\n",
       "      <th>Shift</th>\n",
       "      <th>Region</th>\n",
       "      <th>Sales Rep</th>\n",
       "      <th>Product</th>\n",
       "      <th>Cost per</th>\n",
       "      <th>Units Sold</th>\n",
       "    </tr>\n",
       "  </thead>\n",
       "  <tbody>\n",
       "    <tr>\n",
       "      <th>3</th>\n",
       "      <td>1</td>\n",
       "      <td>North</td>\n",
       "      <td>Krystin</td>\n",
       "      <td>Pen</td>\n",
       "      <td>10</td>\n",
       "      <td>37</td>\n",
       "    </tr>\n",
       "    <tr>\n",
       "      <th>6</th>\n",
       "      <td>1</td>\n",
       "      <td>North</td>\n",
       "      <td>Estelle</td>\n",
       "      <td>Stapler</td>\n",
       "      <td>25</td>\n",
       "      <td>129</td>\n",
       "    </tr>\n",
       "    <tr>\n",
       "      <th>8</th>\n",
       "      <td>1</td>\n",
       "      <td>North</td>\n",
       "      <td>Ami</td>\n",
       "      <td>Stapler</td>\n",
       "      <td>25</td>\n",
       "      <td>139</td>\n",
       "    </tr>\n",
       "    <tr>\n",
       "      <th>15</th>\n",
       "      <td>1</td>\n",
       "      <td>North</td>\n",
       "      <td>Delpha</td>\n",
       "      <td>Paper</td>\n",
       "      <td>15</td>\n",
       "      <td>75</td>\n",
       "    </tr>\n",
       "    <tr>\n",
       "      <th>19</th>\n",
       "      <td>1</td>\n",
       "      <td>North</td>\n",
       "      <td>Jimmy</td>\n",
       "      <td>Pencil</td>\n",
       "      <td>5</td>\n",
       "      <td>167</td>\n",
       "    </tr>\n",
       "    <tr>\n",
       "      <th>...</th>\n",
       "      <td>...</td>\n",
       "      <td>...</td>\n",
       "      <td>...</td>\n",
       "      <td>...</td>\n",
       "      <td>...</td>\n",
       "      <td>...</td>\n",
       "    </tr>\n",
       "    <tr>\n",
       "      <th>261</th>\n",
       "      <td>3</td>\n",
       "      <td>North</td>\n",
       "      <td>Dorthea</td>\n",
       "      <td>Pencil</td>\n",
       "      <td>5</td>\n",
       "      <td>125</td>\n",
       "    </tr>\n",
       "    <tr>\n",
       "      <th>263</th>\n",
       "      <td>3</td>\n",
       "      <td>North</td>\n",
       "      <td>Betsy</td>\n",
       "      <td>Folder</td>\n",
       "      <td>17</td>\n",
       "      <td>168</td>\n",
       "    </tr>\n",
       "    <tr>\n",
       "      <th>269</th>\n",
       "      <td>3</td>\n",
       "      <td>North</td>\n",
       "      <td>Odilia</td>\n",
       "      <td>Stapler</td>\n",
       "      <td>25</td>\n",
       "      <td>200</td>\n",
       "    </tr>\n",
       "    <tr>\n",
       "      <th>273</th>\n",
       "      <td>3</td>\n",
       "      <td>North</td>\n",
       "      <td>Ami</td>\n",
       "      <td>Folder</td>\n",
       "      <td>17</td>\n",
       "      <td>185</td>\n",
       "    </tr>\n",
       "    <tr>\n",
       "      <th>283</th>\n",
       "      <td>3</td>\n",
       "      <td>North</td>\n",
       "      <td>Jimmy</td>\n",
       "      <td>Stapler</td>\n",
       "      <td>25</td>\n",
       "      <td>190</td>\n",
       "    </tr>\n",
       "  </tbody>\n",
       "</table>\n",
       "<p>79 rows × 6 columns</p>\n",
       "</div>"
      ],
      "text/plain": [
       "     Shift Region Sales Rep  Product  Cost per  Units Sold\n",
       "3        1  North   Krystin      Pen        10          37\n",
       "6        1  North   Estelle  Stapler        25         129\n",
       "8        1  North       Ami  Stapler        25         139\n",
       "15       1  North    Delpha    Paper        15          75\n",
       "19       1  North     Jimmy   Pencil         5         167\n",
       "..     ...    ...       ...      ...       ...         ...\n",
       "261      3  North   Dorthea   Pencil         5         125\n",
       "263      3  North     Betsy   Folder        17         168\n",
       "269      3  North    Odilia  Stapler        25         200\n",
       "273      3  North       Ami   Folder        17         185\n",
       "283      3  North     Jimmy  Stapler        25         190\n",
       "\n",
       "[79 rows x 6 columns]"
      ]
     },
     "execution_count": 54,
     "metadata": {},
     "output_type": "execute_result"
    }
   ],
   "source": [
    "ds3[ds3[\"Region\"]==\"North\"]  # to sort region == north"
   ]
  },
  {
   "cell_type": "code",
   "execution_count": 55,
   "metadata": {
    "metadata": {}
   },
   "outputs": [
    {
     "data": {
      "text/html": [
       "<div>\n",
       "<style scoped>\n",
       "    .dataframe tbody tr th:only-of-type {\n",
       "        vertical-align: middle;\n",
       "    }\n",
       "\n",
       "    .dataframe tbody tr th {\n",
       "        vertical-align: top;\n",
       "    }\n",
       "\n",
       "    .dataframe thead th {\n",
       "        text-align: right;\n",
       "    }\n",
       "</style>\n",
       "<table border=\"1\" class=\"dataframe\">\n",
       "  <thead>\n",
       "    <tr style=\"text-align: right;\">\n",
       "      <th></th>\n",
       "      <th>Shift</th>\n",
       "      <th>Region</th>\n",
       "      <th>Sales Rep</th>\n",
       "      <th>Product</th>\n",
       "      <th>Cost per</th>\n",
       "      <th>Units Sold</th>\n",
       "    </tr>\n",
       "  </thead>\n",
       "  <tbody>\n",
       "    <tr>\n",
       "      <th>3</th>\n",
       "      <td>1</td>\n",
       "      <td>North</td>\n",
       "      <td>Krystin</td>\n",
       "      <td>Pen</td>\n",
       "      <td>10</td>\n",
       "      <td>37</td>\n",
       "    </tr>\n",
       "    <tr>\n",
       "      <th>7</th>\n",
       "      <td>1</td>\n",
       "      <td>East</td>\n",
       "      <td>Delpha</td>\n",
       "      <td>Pen</td>\n",
       "      <td>10</td>\n",
       "      <td>100</td>\n",
       "    </tr>\n",
       "    <tr>\n",
       "      <th>9</th>\n",
       "      <td>1</td>\n",
       "      <td>West</td>\n",
       "      <td>Cristen</td>\n",
       "      <td>Pen</td>\n",
       "      <td>10</td>\n",
       "      <td>144</td>\n",
       "    </tr>\n",
       "    <tr>\n",
       "      <th>11</th>\n",
       "      <td>1</td>\n",
       "      <td>South</td>\n",
       "      <td>Shelli</td>\n",
       "      <td>Pen</td>\n",
       "      <td>10</td>\n",
       "      <td>196</td>\n",
       "    </tr>\n",
       "    <tr>\n",
       "      <th>12</th>\n",
       "      <td>1</td>\n",
       "      <td>West</td>\n",
       "      <td>Deandra</td>\n",
       "      <td>Pen</td>\n",
       "      <td>10</td>\n",
       "      <td>73</td>\n",
       "    </tr>\n",
       "    <tr>\n",
       "      <th>16</th>\n",
       "      <td>1</td>\n",
       "      <td>West</td>\n",
       "      <td>Claudine</td>\n",
       "      <td>Pen</td>\n",
       "      <td>10</td>\n",
       "      <td>131</td>\n",
       "    </tr>\n",
       "    <tr>\n",
       "      <th>17</th>\n",
       "      <td>1</td>\n",
       "      <td>South</td>\n",
       "      <td>Martha</td>\n",
       "      <td>Pen</td>\n",
       "      <td>10</td>\n",
       "      <td>49</td>\n",
       "    </tr>\n",
       "    <tr>\n",
       "      <th>24</th>\n",
       "      <td>1</td>\n",
       "      <td>East</td>\n",
       "      <td>Nolan</td>\n",
       "      <td>Pen</td>\n",
       "      <td>10</td>\n",
       "      <td>168</td>\n",
       "    </tr>\n",
       "    <tr>\n",
       "      <th>28</th>\n",
       "      <td>1</td>\n",
       "      <td>West</td>\n",
       "      <td>Shelli</td>\n",
       "      <td>Pen</td>\n",
       "      <td>10</td>\n",
       "      <td>38</td>\n",
       "    </tr>\n",
       "    <tr>\n",
       "      <th>35</th>\n",
       "      <td>1</td>\n",
       "      <td>East</td>\n",
       "      <td>Dorthea</td>\n",
       "      <td>Pen</td>\n",
       "      <td>10</td>\n",
       "      <td>85</td>\n",
       "    </tr>\n",
       "    <tr>\n",
       "      <th>38</th>\n",
       "      <td>1</td>\n",
       "      <td>North</td>\n",
       "      <td>Nola</td>\n",
       "      <td>Pen</td>\n",
       "      <td>10</td>\n",
       "      <td>42</td>\n",
       "    </tr>\n",
       "    <tr>\n",
       "      <th>55</th>\n",
       "      <td>1</td>\n",
       "      <td>West</td>\n",
       "      <td>Lisbeth</td>\n",
       "      <td>Pen</td>\n",
       "      <td>10</td>\n",
       "      <td>170</td>\n",
       "    </tr>\n",
       "    <tr>\n",
       "      <th>64</th>\n",
       "      <td>1</td>\n",
       "      <td>West</td>\n",
       "      <td>Charis</td>\n",
       "      <td>Pen</td>\n",
       "      <td>10</td>\n",
       "      <td>137</td>\n",
       "    </tr>\n",
       "    <tr>\n",
       "      <th>69</th>\n",
       "      <td>1</td>\n",
       "      <td>West</td>\n",
       "      <td>Damion</td>\n",
       "      <td>Pen</td>\n",
       "      <td>10</td>\n",
       "      <td>55</td>\n",
       "    </tr>\n",
       "    <tr>\n",
       "      <th>71</th>\n",
       "      <td>1</td>\n",
       "      <td>East</td>\n",
       "      <td>Shirlene</td>\n",
       "      <td>Pen</td>\n",
       "      <td>10</td>\n",
       "      <td>132</td>\n",
       "    </tr>\n",
       "    <tr>\n",
       "      <th>85</th>\n",
       "      <td>1</td>\n",
       "      <td>West</td>\n",
       "      <td>Winter</td>\n",
       "      <td>Pen</td>\n",
       "      <td>10</td>\n",
       "      <td>184</td>\n",
       "    </tr>\n",
       "    <tr>\n",
       "      <th>91</th>\n",
       "      <td>1</td>\n",
       "      <td>East</td>\n",
       "      <td>Diann</td>\n",
       "      <td>Pen</td>\n",
       "      <td>10</td>\n",
       "      <td>63</td>\n",
       "    </tr>\n",
       "    <tr>\n",
       "      <th>92</th>\n",
       "      <td>1</td>\n",
       "      <td>North</td>\n",
       "      <td>Lashon</td>\n",
       "      <td>Pen</td>\n",
       "      <td>10</td>\n",
       "      <td>191</td>\n",
       "    </tr>\n",
       "    <tr>\n",
       "      <th>100</th>\n",
       "      <td>2</td>\n",
       "      <td>North</td>\n",
       "      <td>Tyree</td>\n",
       "      <td>Pen</td>\n",
       "      <td>10</td>\n",
       "      <td>83</td>\n",
       "    </tr>\n",
       "    <tr>\n",
       "      <th>103</th>\n",
       "      <td>2</td>\n",
       "      <td>West</td>\n",
       "      <td>Willette</td>\n",
       "      <td>Pen</td>\n",
       "      <td>10</td>\n",
       "      <td>117</td>\n",
       "    </tr>\n",
       "    <tr>\n",
       "      <th>104</th>\n",
       "      <td>2</td>\n",
       "      <td>North</td>\n",
       "      <td>Damion</td>\n",
       "      <td>Pen</td>\n",
       "      <td>10</td>\n",
       "      <td>125</td>\n",
       "    </tr>\n",
       "    <tr>\n",
       "      <th>108</th>\n",
       "      <td>2</td>\n",
       "      <td>West</td>\n",
       "      <td>Cordell</td>\n",
       "      <td>Pen</td>\n",
       "      <td>10</td>\n",
       "      <td>108</td>\n",
       "    </tr>\n",
       "    <tr>\n",
       "      <th>111</th>\n",
       "      <td>2</td>\n",
       "      <td>South</td>\n",
       "      <td>Jammie</td>\n",
       "      <td>Pen</td>\n",
       "      <td>10</td>\n",
       "      <td>180</td>\n",
       "    </tr>\n",
       "    <tr>\n",
       "      <th>112</th>\n",
       "      <td>2</td>\n",
       "      <td>South</td>\n",
       "      <td>Chaya</td>\n",
       "      <td>Pen</td>\n",
       "      <td>10</td>\n",
       "      <td>102</td>\n",
       "    </tr>\n",
       "    <tr>\n",
       "      <th>135</th>\n",
       "      <td>2</td>\n",
       "      <td>South</td>\n",
       "      <td>Tyree</td>\n",
       "      <td>Pen</td>\n",
       "      <td>10</td>\n",
       "      <td>162</td>\n",
       "    </tr>\n",
       "    <tr>\n",
       "      <th>136</th>\n",
       "      <td>2</td>\n",
       "      <td>North</td>\n",
       "      <td>Dina</td>\n",
       "      <td>Pen</td>\n",
       "      <td>10</td>\n",
       "      <td>61</td>\n",
       "    </tr>\n",
       "    <tr>\n",
       "      <th>141</th>\n",
       "      <td>2</td>\n",
       "      <td>North</td>\n",
       "      <td>Anderson</td>\n",
       "      <td>Pen</td>\n",
       "      <td>10</td>\n",
       "      <td>93</td>\n",
       "    </tr>\n",
       "    <tr>\n",
       "      <th>142</th>\n",
       "      <td>2</td>\n",
       "      <td>West</td>\n",
       "      <td>Raye</td>\n",
       "      <td>Pen</td>\n",
       "      <td>10</td>\n",
       "      <td>151</td>\n",
       "    </tr>\n",
       "    <tr>\n",
       "      <th>146</th>\n",
       "      <td>2</td>\n",
       "      <td>South</td>\n",
       "      <td>Damion</td>\n",
       "      <td>Pen</td>\n",
       "      <td>10</td>\n",
       "      <td>122</td>\n",
       "    </tr>\n",
       "    <tr>\n",
       "      <th>150</th>\n",
       "      <td>2</td>\n",
       "      <td>West</td>\n",
       "      <td>Deandra</td>\n",
       "      <td>Pen</td>\n",
       "      <td>10</td>\n",
       "      <td>115</td>\n",
       "    </tr>\n",
       "    <tr>\n",
       "      <th>152</th>\n",
       "      <td>2</td>\n",
       "      <td>South</td>\n",
       "      <td>Shayne</td>\n",
       "      <td>Pen</td>\n",
       "      <td>10</td>\n",
       "      <td>87</td>\n",
       "    </tr>\n",
       "    <tr>\n",
       "      <th>158</th>\n",
       "      <td>2</td>\n",
       "      <td>North</td>\n",
       "      <td>Jesusita</td>\n",
       "      <td>Pen</td>\n",
       "      <td>10</td>\n",
       "      <td>163</td>\n",
       "    </tr>\n",
       "    <tr>\n",
       "      <th>174</th>\n",
       "      <td>2</td>\n",
       "      <td>North</td>\n",
       "      <td>Jesusita</td>\n",
       "      <td>Pen</td>\n",
       "      <td>10</td>\n",
       "      <td>126</td>\n",
       "    </tr>\n",
       "    <tr>\n",
       "      <th>175</th>\n",
       "      <td>2</td>\n",
       "      <td>South</td>\n",
       "      <td>Jimmy</td>\n",
       "      <td>Pen</td>\n",
       "      <td>10</td>\n",
       "      <td>145</td>\n",
       "    </tr>\n",
       "    <tr>\n",
       "      <th>181</th>\n",
       "      <td>2</td>\n",
       "      <td>East</td>\n",
       "      <td>Adrian</td>\n",
       "      <td>Pen</td>\n",
       "      <td>10</td>\n",
       "      <td>63</td>\n",
       "    </tr>\n",
       "    <tr>\n",
       "      <th>183</th>\n",
       "      <td>2</td>\n",
       "      <td>East</td>\n",
       "      <td>Martha</td>\n",
       "      <td>Pen</td>\n",
       "      <td>10</td>\n",
       "      <td>44</td>\n",
       "    </tr>\n",
       "    <tr>\n",
       "      <th>206</th>\n",
       "      <td>3</td>\n",
       "      <td>West</td>\n",
       "      <td>Deandra</td>\n",
       "      <td>Pen</td>\n",
       "      <td>10</td>\n",
       "      <td>135</td>\n",
       "    </tr>\n",
       "    <tr>\n",
       "      <th>216</th>\n",
       "      <td>3</td>\n",
       "      <td>East</td>\n",
       "      <td>Ami</td>\n",
       "      <td>Pen</td>\n",
       "      <td>10</td>\n",
       "      <td>67</td>\n",
       "    </tr>\n",
       "    <tr>\n",
       "      <th>238</th>\n",
       "      <td>3</td>\n",
       "      <td>West</td>\n",
       "      <td>Dina</td>\n",
       "      <td>Pen</td>\n",
       "      <td>10</td>\n",
       "      <td>59</td>\n",
       "    </tr>\n",
       "    <tr>\n",
       "      <th>239</th>\n",
       "      <td>3</td>\n",
       "      <td>South</td>\n",
       "      <td>Anderson</td>\n",
       "      <td>Pen</td>\n",
       "      <td>10</td>\n",
       "      <td>138</td>\n",
       "    </tr>\n",
       "    <tr>\n",
       "      <th>245</th>\n",
       "      <td>3</td>\n",
       "      <td>West</td>\n",
       "      <td>Jesusita</td>\n",
       "      <td>Pen</td>\n",
       "      <td>10</td>\n",
       "      <td>59</td>\n",
       "    </tr>\n",
       "    <tr>\n",
       "      <th>253</th>\n",
       "      <td>3</td>\n",
       "      <td>North</td>\n",
       "      <td>Racquel</td>\n",
       "      <td>Pen</td>\n",
       "      <td>10</td>\n",
       "      <td>87</td>\n",
       "    </tr>\n",
       "    <tr>\n",
       "      <th>254</th>\n",
       "      <td>3</td>\n",
       "      <td>East</td>\n",
       "      <td>Tyree</td>\n",
       "      <td>Pen</td>\n",
       "      <td>10</td>\n",
       "      <td>82</td>\n",
       "    </tr>\n",
       "    <tr>\n",
       "      <th>260</th>\n",
       "      <td>3</td>\n",
       "      <td>West</td>\n",
       "      <td>Von</td>\n",
       "      <td>Pen</td>\n",
       "      <td>10</td>\n",
       "      <td>176</td>\n",
       "    </tr>\n",
       "    <tr>\n",
       "      <th>270</th>\n",
       "      <td>3</td>\n",
       "      <td>East</td>\n",
       "      <td>Raye</td>\n",
       "      <td>Pen</td>\n",
       "      <td>10</td>\n",
       "      <td>87</td>\n",
       "    </tr>\n",
       "    <tr>\n",
       "      <th>274</th>\n",
       "      <td>3</td>\n",
       "      <td>South</td>\n",
       "      <td>Kaci</td>\n",
       "      <td>Pen</td>\n",
       "      <td>10</td>\n",
       "      <td>88</td>\n",
       "    </tr>\n",
       "    <tr>\n",
       "      <th>278</th>\n",
       "      <td>3</td>\n",
       "      <td>South</td>\n",
       "      <td>Kelvin</td>\n",
       "      <td>Pen</td>\n",
       "      <td>10</td>\n",
       "      <td>101</td>\n",
       "    </tr>\n",
       "    <tr>\n",
       "      <th>279</th>\n",
       "      <td>3</td>\n",
       "      <td>West</td>\n",
       "      <td>Lola</td>\n",
       "      <td>Pen</td>\n",
       "      <td>10</td>\n",
       "      <td>185</td>\n",
       "    </tr>\n",
       "    <tr>\n",
       "      <th>282</th>\n",
       "      <td>3</td>\n",
       "      <td>South</td>\n",
       "      <td>Keitha</td>\n",
       "      <td>Pen</td>\n",
       "      <td>10</td>\n",
       "      <td>135</td>\n",
       "    </tr>\n",
       "    <tr>\n",
       "      <th>284</th>\n",
       "      <td>3</td>\n",
       "      <td>East</td>\n",
       "      <td>Shelli</td>\n",
       "      <td>Pen</td>\n",
       "      <td>10</td>\n",
       "      <td>112</td>\n",
       "    </tr>\n",
       "    <tr>\n",
       "      <th>286</th>\n",
       "      <td>3</td>\n",
       "      <td>West</td>\n",
       "      <td>Deandra</td>\n",
       "      <td>Pen</td>\n",
       "      <td>10</td>\n",
       "      <td>78</td>\n",
       "    </tr>\n",
       "    <tr>\n",
       "      <th>292</th>\n",
       "      <td>3</td>\n",
       "      <td>West</td>\n",
       "      <td>Estelle</td>\n",
       "      <td>Pen</td>\n",
       "      <td>10</td>\n",
       "      <td>83</td>\n",
       "    </tr>\n",
       "    <tr>\n",
       "      <th>293</th>\n",
       "      <td>3</td>\n",
       "      <td>South</td>\n",
       "      <td>Willa</td>\n",
       "      <td>Pen</td>\n",
       "      <td>10</td>\n",
       "      <td>42</td>\n",
       "    </tr>\n",
       "  </tbody>\n",
       "</table>\n",
       "</div>"
      ],
      "text/plain": [
       "     Shift Region Sales Rep Product  Cost per  Units Sold\n",
       "3        1  North   Krystin     Pen        10          37\n",
       "7        1   East    Delpha     Pen        10         100\n",
       "9        1   West   Cristen     Pen        10         144\n",
       "11       1  South    Shelli     Pen        10         196\n",
       "12       1   West   Deandra     Pen        10          73\n",
       "16       1   West  Claudine     Pen        10         131\n",
       "17       1  South    Martha     Pen        10          49\n",
       "24       1   East     Nolan     Pen        10         168\n",
       "28       1   West    Shelli     Pen        10          38\n",
       "35       1   East   Dorthea     Pen        10          85\n",
       "38       1  North      Nola     Pen        10          42\n",
       "55       1   West   Lisbeth     Pen        10         170\n",
       "64       1   West    Charis     Pen        10         137\n",
       "69       1   West    Damion     Pen        10          55\n",
       "71       1   East  Shirlene     Pen        10         132\n",
       "85       1   West    Winter     Pen        10         184\n",
       "91       1   East     Diann     Pen        10          63\n",
       "92       1  North    Lashon     Pen        10         191\n",
       "100      2  North     Tyree     Pen        10          83\n",
       "103      2   West  Willette     Pen        10         117\n",
       "104      2  North    Damion     Pen        10         125\n",
       "108      2   West   Cordell     Pen        10         108\n",
       "111      2  South    Jammie     Pen        10         180\n",
       "112      2  South     Chaya     Pen        10         102\n",
       "135      2  South     Tyree     Pen        10         162\n",
       "136      2  North      Dina     Pen        10          61\n",
       "141      2  North  Anderson     Pen        10          93\n",
       "142      2   West      Raye     Pen        10         151\n",
       "146      2  South    Damion     Pen        10         122\n",
       "150      2   West   Deandra     Pen        10         115\n",
       "152      2  South    Shayne     Pen        10          87\n",
       "158      2  North  Jesusita     Pen        10         163\n",
       "174      2  North  Jesusita     Pen        10         126\n",
       "175      2  South     Jimmy     Pen        10         145\n",
       "181      2   East    Adrian     Pen        10          63\n",
       "183      2   East    Martha     Pen        10          44\n",
       "206      3   West   Deandra     Pen        10         135\n",
       "216      3   East       Ami     Pen        10          67\n",
       "238      3   West      Dina     Pen        10          59\n",
       "239      3  South  Anderson     Pen        10         138\n",
       "245      3   West  Jesusita     Pen        10          59\n",
       "253      3  North   Racquel     Pen        10          87\n",
       "254      3   East     Tyree     Pen        10          82\n",
       "260      3   West       Von     Pen        10         176\n",
       "270      3   East      Raye     Pen        10          87\n",
       "274      3  South      Kaci     Pen        10          88\n",
       "278      3  South    Kelvin     Pen        10         101\n",
       "279      3   West      Lola     Pen        10         185\n",
       "282      3  South    Keitha     Pen        10         135\n",
       "284      3   East    Shelli     Pen        10         112\n",
       "286      3   West   Deandra     Pen        10          78\n",
       "292      3   West   Estelle     Pen        10          83\n",
       "293      3  South     Willa     Pen        10          42"
      ]
     },
     "execution_count": 55,
     "metadata": {},
     "output_type": "execute_result"
    }
   ],
   "source": [
    "ds3[ds3[\"Product\"]==\"Pen\"]"
   ]
  },
  {
   "cell_type": "code",
   "execution_count": 56,
   "metadata": {
    "metadata": {}
   },
   "outputs": [
    {
     "data": {
      "text/html": [
       "<div>\n",
       "<style scoped>\n",
       "    .dataframe tbody tr th:only-of-type {\n",
       "        vertical-align: middle;\n",
       "    }\n",
       "\n",
       "    .dataframe tbody tr th {\n",
       "        vertical-align: top;\n",
       "    }\n",
       "\n",
       "    .dataframe thead th {\n",
       "        text-align: right;\n",
       "    }\n",
       "</style>\n",
       "<table border=\"1\" class=\"dataframe\">\n",
       "  <thead>\n",
       "    <tr style=\"text-align: right;\">\n",
       "      <th></th>\n",
       "      <th>Shift</th>\n",
       "      <th>Region</th>\n",
       "      <th>Sales Rep</th>\n",
       "      <th>Product</th>\n",
       "      <th>Cost per</th>\n",
       "      <th>Units Sold</th>\n",
       "    </tr>\n",
       "  </thead>\n",
       "  <tbody>\n",
       "    <tr>\n",
       "      <th>11</th>\n",
       "      <td>1</td>\n",
       "      <td>South</td>\n",
       "      <td>Shelli</td>\n",
       "      <td>Pen</td>\n",
       "      <td>10</td>\n",
       "      <td>196</td>\n",
       "    </tr>\n",
       "    <tr>\n",
       "      <th>51</th>\n",
       "      <td>1</td>\n",
       "      <td>West</td>\n",
       "      <td>Dina</td>\n",
       "      <td>Folder</td>\n",
       "      <td>17</td>\n",
       "      <td>183</td>\n",
       "    </tr>\n",
       "    <tr>\n",
       "      <th>54</th>\n",
       "      <td>1</td>\n",
       "      <td>South</td>\n",
       "      <td>Dorthea</td>\n",
       "      <td>Binder</td>\n",
       "      <td>30</td>\n",
       "      <td>191</td>\n",
       "    </tr>\n",
       "    <tr>\n",
       "      <th>57</th>\n",
       "      <td>1</td>\n",
       "      <td>North</td>\n",
       "      <td>Nisha</td>\n",
       "      <td>Folder</td>\n",
       "      <td>17</td>\n",
       "      <td>195</td>\n",
       "    </tr>\n",
       "    <tr>\n",
       "      <th>58</th>\n",
       "      <td>1</td>\n",
       "      <td>North</td>\n",
       "      <td>Delpha</td>\n",
       "      <td>Folder</td>\n",
       "      <td>17</td>\n",
       "      <td>198</td>\n",
       "    </tr>\n",
       "    <tr>\n",
       "      <th>67</th>\n",
       "      <td>1</td>\n",
       "      <td>East</td>\n",
       "      <td>Jimmy</td>\n",
       "      <td>Folder</td>\n",
       "      <td>17</td>\n",
       "      <td>193</td>\n",
       "    </tr>\n",
       "    <tr>\n",
       "      <th>75</th>\n",
       "      <td>1</td>\n",
       "      <td>South</td>\n",
       "      <td>Tyree</td>\n",
       "      <td>Paper</td>\n",
       "      <td>15</td>\n",
       "      <td>197</td>\n",
       "    </tr>\n",
       "    <tr>\n",
       "      <th>77</th>\n",
       "      <td>1</td>\n",
       "      <td>East</td>\n",
       "      <td>Cristen</td>\n",
       "      <td>Binder</td>\n",
       "      <td>30</td>\n",
       "      <td>182</td>\n",
       "    </tr>\n",
       "    <tr>\n",
       "      <th>78</th>\n",
       "      <td>1</td>\n",
       "      <td>North</td>\n",
       "      <td>Willa</td>\n",
       "      <td>Paper</td>\n",
       "      <td>15</td>\n",
       "      <td>200</td>\n",
       "    </tr>\n",
       "    <tr>\n",
       "      <th>83</th>\n",
       "      <td>1</td>\n",
       "      <td>West</td>\n",
       "      <td>Betsy</td>\n",
       "      <td>Stapler</td>\n",
       "      <td>25</td>\n",
       "      <td>187</td>\n",
       "    </tr>\n",
       "    <tr>\n",
       "      <th>85</th>\n",
       "      <td>1</td>\n",
       "      <td>West</td>\n",
       "      <td>Winter</td>\n",
       "      <td>Pen</td>\n",
       "      <td>10</td>\n",
       "      <td>184</td>\n",
       "    </tr>\n",
       "    <tr>\n",
       "      <th>92</th>\n",
       "      <td>1</td>\n",
       "      <td>North</td>\n",
       "      <td>Lashon</td>\n",
       "      <td>Pen</td>\n",
       "      <td>10</td>\n",
       "      <td>191</td>\n",
       "    </tr>\n",
       "    <tr>\n",
       "      <th>96</th>\n",
       "      <td>1</td>\n",
       "      <td>North</td>\n",
       "      <td>Jesusita</td>\n",
       "      <td>Binder</td>\n",
       "      <td>30</td>\n",
       "      <td>200</td>\n",
       "    </tr>\n",
       "    <tr>\n",
       "      <th>102</th>\n",
       "      <td>2</td>\n",
       "      <td>East</td>\n",
       "      <td>Caleb</td>\n",
       "      <td>Binder</td>\n",
       "      <td>30</td>\n",
       "      <td>186</td>\n",
       "    </tr>\n",
       "    <tr>\n",
       "      <th>122</th>\n",
       "      <td>2</td>\n",
       "      <td>West</td>\n",
       "      <td>Tyree</td>\n",
       "      <td>Stapler</td>\n",
       "      <td>25</td>\n",
       "      <td>186</td>\n",
       "    </tr>\n",
       "    <tr>\n",
       "      <th>126</th>\n",
       "      <td>2</td>\n",
       "      <td>East</td>\n",
       "      <td>Betsy</td>\n",
       "      <td>Paper</td>\n",
       "      <td>15</td>\n",
       "      <td>186</td>\n",
       "    </tr>\n",
       "    <tr>\n",
       "      <th>153</th>\n",
       "      <td>2</td>\n",
       "      <td>West</td>\n",
       "      <td>Anderson</td>\n",
       "      <td>Pencil</td>\n",
       "      <td>5</td>\n",
       "      <td>182</td>\n",
       "    </tr>\n",
       "    <tr>\n",
       "      <th>156</th>\n",
       "      <td>2</td>\n",
       "      <td>South</td>\n",
       "      <td>Nolan</td>\n",
       "      <td>Folder</td>\n",
       "      <td>17</td>\n",
       "      <td>200</td>\n",
       "    </tr>\n",
       "    <tr>\n",
       "      <th>157</th>\n",
       "      <td>2</td>\n",
       "      <td>North</td>\n",
       "      <td>Jammie</td>\n",
       "      <td>Stapler</td>\n",
       "      <td>25</td>\n",
       "      <td>194</td>\n",
       "    </tr>\n",
       "    <tr>\n",
       "      <th>159</th>\n",
       "      <td>2</td>\n",
       "      <td>West</td>\n",
       "      <td>Willa</td>\n",
       "      <td>Paper</td>\n",
       "      <td>15</td>\n",
       "      <td>193</td>\n",
       "    </tr>\n",
       "    <tr>\n",
       "      <th>160</th>\n",
       "      <td>2</td>\n",
       "      <td>North</td>\n",
       "      <td>Keitha</td>\n",
       "      <td>Stapler</td>\n",
       "      <td>25</td>\n",
       "      <td>181</td>\n",
       "    </tr>\n",
       "    <tr>\n",
       "      <th>164</th>\n",
       "      <td>2</td>\n",
       "      <td>South</td>\n",
       "      <td>Cristen</td>\n",
       "      <td>Binder</td>\n",
       "      <td>30</td>\n",
       "      <td>185</td>\n",
       "    </tr>\n",
       "    <tr>\n",
       "      <th>193</th>\n",
       "      <td>2</td>\n",
       "      <td>West</td>\n",
       "      <td>Anderson</td>\n",
       "      <td>Binder</td>\n",
       "      <td>30</td>\n",
       "      <td>187</td>\n",
       "    </tr>\n",
       "    <tr>\n",
       "      <th>201</th>\n",
       "      <td>3</td>\n",
       "      <td>West</td>\n",
       "      <td>Shelli</td>\n",
       "      <td>Folder</td>\n",
       "      <td>17</td>\n",
       "      <td>185</td>\n",
       "    </tr>\n",
       "    <tr>\n",
       "      <th>210</th>\n",
       "      <td>3</td>\n",
       "      <td>West</td>\n",
       "      <td>Shirlene</td>\n",
       "      <td>Folder</td>\n",
       "      <td>17</td>\n",
       "      <td>191</td>\n",
       "    </tr>\n",
       "    <tr>\n",
       "      <th>215</th>\n",
       "      <td>3</td>\n",
       "      <td>North</td>\n",
       "      <td>Cordell</td>\n",
       "      <td>Stapler</td>\n",
       "      <td>25</td>\n",
       "      <td>196</td>\n",
       "    </tr>\n",
       "    <tr>\n",
       "      <th>222</th>\n",
       "      <td>3</td>\n",
       "      <td>South</td>\n",
       "      <td>Raye</td>\n",
       "      <td>Pencil</td>\n",
       "      <td>5</td>\n",
       "      <td>195</td>\n",
       "    </tr>\n",
       "    <tr>\n",
       "      <th>225</th>\n",
       "      <td>3</td>\n",
       "      <td>South</td>\n",
       "      <td>Meggan</td>\n",
       "      <td>Pencil</td>\n",
       "      <td>5</td>\n",
       "      <td>191</td>\n",
       "    </tr>\n",
       "    <tr>\n",
       "      <th>228</th>\n",
       "      <td>3</td>\n",
       "      <td>West</td>\n",
       "      <td>Cordell</td>\n",
       "      <td>Stapler</td>\n",
       "      <td>25</td>\n",
       "      <td>182</td>\n",
       "    </tr>\n",
       "    <tr>\n",
       "      <th>237</th>\n",
       "      <td>3</td>\n",
       "      <td>South</td>\n",
       "      <td>Lashon</td>\n",
       "      <td>Stapler</td>\n",
       "      <td>25</td>\n",
       "      <td>182</td>\n",
       "    </tr>\n",
       "    <tr>\n",
       "      <th>264</th>\n",
       "      <td>3</td>\n",
       "      <td>East</td>\n",
       "      <td>Raye</td>\n",
       "      <td>Pencil</td>\n",
       "      <td>5</td>\n",
       "      <td>184</td>\n",
       "    </tr>\n",
       "    <tr>\n",
       "      <th>267</th>\n",
       "      <td>3</td>\n",
       "      <td>South</td>\n",
       "      <td>Damion</td>\n",
       "      <td>Folder</td>\n",
       "      <td>17</td>\n",
       "      <td>182</td>\n",
       "    </tr>\n",
       "    <tr>\n",
       "      <th>269</th>\n",
       "      <td>3</td>\n",
       "      <td>North</td>\n",
       "      <td>Odilia</td>\n",
       "      <td>Stapler</td>\n",
       "      <td>25</td>\n",
       "      <td>200</td>\n",
       "    </tr>\n",
       "    <tr>\n",
       "      <th>273</th>\n",
       "      <td>3</td>\n",
       "      <td>North</td>\n",
       "      <td>Ami</td>\n",
       "      <td>Folder</td>\n",
       "      <td>17</td>\n",
       "      <td>185</td>\n",
       "    </tr>\n",
       "    <tr>\n",
       "      <th>279</th>\n",
       "      <td>3</td>\n",
       "      <td>West</td>\n",
       "      <td>Lola</td>\n",
       "      <td>Pen</td>\n",
       "      <td>10</td>\n",
       "      <td>185</td>\n",
       "    </tr>\n",
       "    <tr>\n",
       "      <th>280</th>\n",
       "      <td>3</td>\n",
       "      <td>East</td>\n",
       "      <td>Jenifer</td>\n",
       "      <td>Pencil</td>\n",
       "      <td>5</td>\n",
       "      <td>186</td>\n",
       "    </tr>\n",
       "    <tr>\n",
       "      <th>283</th>\n",
       "      <td>3</td>\n",
       "      <td>North</td>\n",
       "      <td>Jimmy</td>\n",
       "      <td>Stapler</td>\n",
       "      <td>25</td>\n",
       "      <td>190</td>\n",
       "    </tr>\n",
       "  </tbody>\n",
       "</table>\n",
       "</div>"
      ],
      "text/plain": [
       "     Shift Region Sales Rep  Product  Cost per  Units Sold\n",
       "11       1  South    Shelli      Pen        10         196\n",
       "51       1   West      Dina   Folder        17         183\n",
       "54       1  South   Dorthea   Binder        30         191\n",
       "57       1  North     Nisha   Folder        17         195\n",
       "58       1  North    Delpha   Folder        17         198\n",
       "67       1   East     Jimmy   Folder        17         193\n",
       "75       1  South     Tyree    Paper        15         197\n",
       "77       1   East   Cristen   Binder        30         182\n",
       "78       1  North     Willa    Paper        15         200\n",
       "83       1   West     Betsy  Stapler        25         187\n",
       "85       1   West    Winter      Pen        10         184\n",
       "92       1  North    Lashon      Pen        10         191\n",
       "96       1  North  Jesusita   Binder        30         200\n",
       "102      2   East     Caleb   Binder        30         186\n",
       "122      2   West     Tyree  Stapler        25         186\n",
       "126      2   East     Betsy    Paper        15         186\n",
       "153      2   West  Anderson   Pencil         5         182\n",
       "156      2  South     Nolan   Folder        17         200\n",
       "157      2  North    Jammie  Stapler        25         194\n",
       "159      2   West     Willa    Paper        15         193\n",
       "160      2  North    Keitha  Stapler        25         181\n",
       "164      2  South   Cristen   Binder        30         185\n",
       "193      2   West  Anderson   Binder        30         187\n",
       "201      3   West    Shelli   Folder        17         185\n",
       "210      3   West  Shirlene   Folder        17         191\n",
       "215      3  North   Cordell  Stapler        25         196\n",
       "222      3  South      Raye   Pencil         5         195\n",
       "225      3  South    Meggan   Pencil         5         191\n",
       "228      3   West   Cordell  Stapler        25         182\n",
       "237      3  South    Lashon  Stapler        25         182\n",
       "264      3   East      Raye   Pencil         5         184\n",
       "267      3  South    Damion   Folder        17         182\n",
       "269      3  North    Odilia  Stapler        25         200\n",
       "273      3  North       Ami   Folder        17         185\n",
       "279      3   West      Lola      Pen        10         185\n",
       "280      3   East   Jenifer   Pencil         5         186\n",
       "283      3  North     Jimmy  Stapler        25         190"
      ]
     },
     "execution_count": 56,
     "metadata": {},
     "output_type": "execute_result"
    }
   ],
   "source": [
    "ds3[ds3[\"Units Sold\"]>180]"
   ]
  },
  {
   "cell_type": "code",
   "execution_count": 57,
   "metadata": {
    "metadata": {}
   },
   "outputs": [
    {
     "data": {
      "text/html": [
       "<div>\n",
       "<style scoped>\n",
       "    .dataframe tbody tr th:only-of-type {\n",
       "        vertical-align: middle;\n",
       "    }\n",
       "\n",
       "    .dataframe tbody tr th {\n",
       "        vertical-align: top;\n",
       "    }\n",
       "\n",
       "    .dataframe thead th {\n",
       "        text-align: right;\n",
       "    }\n",
       "</style>\n",
       "<table border=\"1\" class=\"dataframe\">\n",
       "  <thead>\n",
       "    <tr style=\"text-align: right;\">\n",
       "      <th></th>\n",
       "      <th>PC</th>\n",
       "      <th>laptop</th>\n",
       "      <th>mobile</th>\n",
       "    </tr>\n",
       "  </thead>\n",
       "  <tbody>\n",
       "    <tr>\n",
       "      <th>processor</th>\n",
       "      <td>i9</td>\n",
       "      <td>i7</td>\n",
       "      <td>snapdragon</td>\n",
       "    </tr>\n",
       "    <tr>\n",
       "      <th>RAM</th>\n",
       "      <td>32GB</td>\n",
       "      <td>8GB</td>\n",
       "      <td>6GB</td>\n",
       "    </tr>\n",
       "    <tr>\n",
       "      <th>Memory</th>\n",
       "      <td>2TB</td>\n",
       "      <td>1TB</td>\n",
       "      <td>128</td>\n",
       "    </tr>\n",
       "  </tbody>\n",
       "</table>\n",
       "</div>"
      ],
      "text/plain": [
       "             PC laptop      mobile\n",
       "processor    i9     i7  snapdragon\n",
       "RAM        32GB    8GB         6GB\n",
       "Memory      2TB    1TB         128"
      ]
     },
     "execution_count": 57,
     "metadata": {},
     "output_type": "execute_result"
    }
   ],
   "source": [
    "ds2"
   ]
  },
  {
   "cell_type": "code",
   "execution_count": 58,
   "metadata": {
    "metadata": {}
   },
   "outputs": [],
   "source": [
    "ds2.to_excel(\"electronic_acc.xlsx\")  # export Data to excel"
   ]
  },
  {
   "cell_type": "code",
   "execution_count": 59,
   "metadata": {
    "metadata": {}
   },
   "outputs": [],
   "source": [
    "# TO REMOVE A column\n",
    "del ds2[\"mobile\"]"
   ]
  },
  {
   "cell_type": "code",
   "execution_count": 60,
   "metadata": {
    "metadata": {}
   },
   "outputs": [
    {
     "data": {
      "text/html": [
       "<div>\n",
       "<style scoped>\n",
       "    .dataframe tbody tr th:only-of-type {\n",
       "        vertical-align: middle;\n",
       "    }\n",
       "\n",
       "    .dataframe tbody tr th {\n",
       "        vertical-align: top;\n",
       "    }\n",
       "\n",
       "    .dataframe thead th {\n",
       "        text-align: right;\n",
       "    }\n",
       "</style>\n",
       "<table border=\"1\" class=\"dataframe\">\n",
       "  <thead>\n",
       "    <tr style=\"text-align: right;\">\n",
       "      <th></th>\n",
       "      <th>PC</th>\n",
       "      <th>laptop</th>\n",
       "    </tr>\n",
       "  </thead>\n",
       "  <tbody>\n",
       "    <tr>\n",
       "      <th>processor</th>\n",
       "      <td>i9</td>\n",
       "      <td>i7</td>\n",
       "    </tr>\n",
       "    <tr>\n",
       "      <th>RAM</th>\n",
       "      <td>32GB</td>\n",
       "      <td>8GB</td>\n",
       "    </tr>\n",
       "    <tr>\n",
       "      <th>Memory</th>\n",
       "      <td>2TB</td>\n",
       "      <td>1TB</td>\n",
       "    </tr>\n",
       "  </tbody>\n",
       "</table>\n",
       "</div>"
      ],
      "text/plain": [
       "             PC laptop\n",
       "processor    i9     i7\n",
       "RAM        32GB    8GB\n",
       "Memory      2TB    1TB"
      ]
     },
     "execution_count": 60,
     "metadata": {},
     "output_type": "execute_result"
    }
   ],
   "source": [
    "ds2"
   ]
  },
  {
   "cell_type": "code",
   "execution_count": 61,
   "metadata": {
    "metadata": {}
   },
   "outputs": [
    {
     "data": {
      "text/html": [
       "<div>\n",
       "<style scoped>\n",
       "    .dataframe tbody tr th:only-of-type {\n",
       "        vertical-align: middle;\n",
       "    }\n",
       "\n",
       "    .dataframe tbody tr th {\n",
       "        vertical-align: top;\n",
       "    }\n",
       "\n",
       "    .dataframe thead th {\n",
       "        text-align: right;\n",
       "    }\n",
       "</style>\n",
       "<table border=\"1\" class=\"dataframe\">\n",
       "  <thead>\n",
       "    <tr style=\"text-align: right;\">\n",
       "      <th></th>\n",
       "      <th>PC</th>\n",
       "      <th>laptop</th>\n",
       "    </tr>\n",
       "  </thead>\n",
       "  <tbody>\n",
       "    <tr>\n",
       "      <th>RAM</th>\n",
       "      <td>32GB</td>\n",
       "      <td>8GB</td>\n",
       "    </tr>\n",
       "    <tr>\n",
       "      <th>Memory</th>\n",
       "      <td>2TB</td>\n",
       "      <td>1TB</td>\n",
       "    </tr>\n",
       "  </tbody>\n",
       "</table>\n",
       "</div>"
      ],
      "text/plain": [
       "          PC laptop\n",
       "RAM     32GB    8GB\n",
       "Memory   2TB    1TB"
      ]
     },
     "execution_count": 61,
     "metadata": {},
     "output_type": "execute_result"
    }
   ],
   "source": [
    "# to delete a row\n",
    "ds2.drop([\"processor\"])"
   ]
  },
  {
   "cell_type": "code",
   "execution_count": 62,
   "metadata": {
    "metadata": {}
   },
   "outputs": [
    {
     "data": {
      "text/plain": [
       "{1, 3, 6, 32, 65, 632, 3231, 6526, 63564}"
      ]
     },
     "execution_count": 62,
     "metadata": {},
     "output_type": "execute_result"
    }
   ],
   "source": [
    "xe=[65,632,63564,6526,3,1,3231,32,6]\n",
    "xs=set(xe)\n",
    "xs"
   ]
  },
  {
   "cell_type": "code",
   "execution_count": 63,
   "metadata": {
    "metadata": {}
   },
   "outputs": [],
   "source": [
    "p1=np.random.randint(25,100,5)\n",
    "p2=np.random.randint(25,100,5)\n",
    "p3=np.random.randint(25,100,5)\n",
    "p4=np.random.randint(25,100,5)\n",
    "p5=np.random.randint(25,100,5)\n",
    "p6=np.random.randint(25,100,5)\n",
    "p7=np.random.randint(25,100,5)\n",
    "p8=np.random.randint(25,100,5)\n",
    "p9=np.random.randint(25,100,5)\n",
    "p10=np.random.randint(25,100,5)"
   ]
  },
  {
   "cell_type": "code",
   "execution_count": 64,
   "metadata": {
    "metadata": {}
   },
   "outputs": [],
   "source": [
    "ds4=pd.DataFrame({\"person_1\":p1,\"person_2\":p2,\"person_3\":p3,\"person_4\":p4,\"person_5\":p5,\n",
    "                \"person_6\":p6,\"person_7\":p7,\"person_8\":p8,\"person_9\":p9,\"person_10\":p10},index=[\"Tamil\",\"English\",\"Maths\",\"Science\",\"Social\"])"
   ]
  },
  {
   "cell_type": "code",
   "execution_count": 65,
   "metadata": {
    "metadata": {}
   },
   "outputs": [
    {
     "data": {
      "text/html": [
       "<div>\n",
       "<style scoped>\n",
       "    .dataframe tbody tr th:only-of-type {\n",
       "        vertical-align: middle;\n",
       "    }\n",
       "\n",
       "    .dataframe tbody tr th {\n",
       "        vertical-align: top;\n",
       "    }\n",
       "\n",
       "    .dataframe thead th {\n",
       "        text-align: right;\n",
       "    }\n",
       "</style>\n",
       "<table border=\"1\" class=\"dataframe\">\n",
       "  <thead>\n",
       "    <tr style=\"text-align: right;\">\n",
       "      <th></th>\n",
       "      <th>person_1</th>\n",
       "      <th>person_2</th>\n",
       "      <th>person_3</th>\n",
       "      <th>person_4</th>\n",
       "      <th>person_5</th>\n",
       "      <th>person_6</th>\n",
       "      <th>person_7</th>\n",
       "      <th>person_8</th>\n",
       "      <th>person_9</th>\n",
       "      <th>person_10</th>\n",
       "    </tr>\n",
       "  </thead>\n",
       "  <tbody>\n",
       "    <tr>\n",
       "      <th>Tamil</th>\n",
       "      <td>29</td>\n",
       "      <td>49</td>\n",
       "      <td>45</td>\n",
       "      <td>96</td>\n",
       "      <td>46</td>\n",
       "      <td>58</td>\n",
       "      <td>49</td>\n",
       "      <td>92</td>\n",
       "      <td>31</td>\n",
       "      <td>56</td>\n",
       "    </tr>\n",
       "    <tr>\n",
       "      <th>English</th>\n",
       "      <td>29</td>\n",
       "      <td>33</td>\n",
       "      <td>77</td>\n",
       "      <td>33</td>\n",
       "      <td>36</td>\n",
       "      <td>92</td>\n",
       "      <td>46</td>\n",
       "      <td>91</td>\n",
       "      <td>44</td>\n",
       "      <td>73</td>\n",
       "    </tr>\n",
       "    <tr>\n",
       "      <th>Maths</th>\n",
       "      <td>52</td>\n",
       "      <td>75</td>\n",
       "      <td>97</td>\n",
       "      <td>44</td>\n",
       "      <td>37</td>\n",
       "      <td>95</td>\n",
       "      <td>94</td>\n",
       "      <td>56</td>\n",
       "      <td>29</td>\n",
       "      <td>50</td>\n",
       "    </tr>\n",
       "    <tr>\n",
       "      <th>Science</th>\n",
       "      <td>71</td>\n",
       "      <td>42</td>\n",
       "      <td>73</td>\n",
       "      <td>70</td>\n",
       "      <td>78</td>\n",
       "      <td>76</td>\n",
       "      <td>69</td>\n",
       "      <td>51</td>\n",
       "      <td>59</td>\n",
       "      <td>95</td>\n",
       "    </tr>\n",
       "    <tr>\n",
       "      <th>Social</th>\n",
       "      <td>39</td>\n",
       "      <td>76</td>\n",
       "      <td>34</td>\n",
       "      <td>71</td>\n",
       "      <td>66</td>\n",
       "      <td>89</td>\n",
       "      <td>43</td>\n",
       "      <td>87</td>\n",
       "      <td>97</td>\n",
       "      <td>74</td>\n",
       "    </tr>\n",
       "  </tbody>\n",
       "</table>\n",
       "</div>"
      ],
      "text/plain": [
       "         person_1  person_2  person_3  person_4  person_5  person_6  person_7  \\\n",
       "Tamil          29        49        45        96        46        58        49   \n",
       "English        29        33        77        33        36        92        46   \n",
       "Maths          52        75        97        44        37        95        94   \n",
       "Science        71        42        73        70        78        76        69   \n",
       "Social         39        76        34        71        66        89        43   \n",
       "\n",
       "         person_8  person_9  person_10  \n",
       "Tamil          92        31         56  \n",
       "English        91        44         73  \n",
       "Maths          56        29         50  \n",
       "Science        51        59         95  \n",
       "Social         87        97         74  "
      ]
     },
     "execution_count": 65,
     "metadata": {},
     "output_type": "execute_result"
    }
   ],
   "source": [
    "ds4"
   ]
  },
  {
   "cell_type": "code",
   "execution_count": 66,
   "metadata": {
    "metadata": {}
   },
   "outputs": [
    {
     "data": {
      "text/plain": [
       "Tamil      45\n",
       "English    77\n",
       "Maths      97\n",
       "Science    73\n",
       "Social     34\n",
       "Name: person_3, dtype: int64"
      ]
     },
     "execution_count": 66,
     "metadata": {},
     "output_type": "execute_result"
    }
   ],
   "source": [
    "ds4[\"person_3\"]"
   ]
  },
  {
   "cell_type": "code",
   "execution_count": 67,
   "metadata": {
    "metadata": {}
   },
   "outputs": [
    {
     "data": {
      "text/plain": [
       "326"
      ]
     },
     "execution_count": 67,
     "metadata": {},
     "output_type": "execute_result"
    }
   ],
   "source": [
    "ds4[\"person_3\"].sum()"
   ]
  },
  {
   "cell_type": "code",
   "execution_count": 68,
   "metadata": {
    "metadata": {}
   },
   "outputs": [],
   "source": [
    "to=ds4.sum()\n",
    "toc=pd.Series(to,name=\"Total\").transpose()"
   ]
  },
  {
   "cell_type": "code",
   "execution_count": 69,
   "metadata": {
    "metadata": {}
   },
   "outputs": [
    {
     "data": {
      "text/plain": [
       "person_1     220\n",
       "person_2     275\n",
       "person_3     326\n",
       "person_4     314\n",
       "person_5     263\n",
       "person_6     410\n",
       "person_7     301\n",
       "person_8     377\n",
       "person_9     260\n",
       "person_10    348\n",
       "Name: Total, dtype: int64"
      ]
     },
     "execution_count": 69,
     "metadata": {},
     "output_type": "execute_result"
    }
   ],
   "source": [
    "toc"
   ]
  },
  {
   "cell_type": "code",
   "execution_count": 70,
   "metadata": {
    "metadata": {}
   },
   "outputs": [
    {
     "name": "stderr",
     "output_type": "stream",
     "text": [
      "/tmp/ipykernel_3625/2895852046.py:1: FutureWarning: In a future version of pandas all arguments of concat except for the argument 'objs' will be keyword-only.\n",
      "  ds5=pd.concat(ds4,toc)\n"
     ]
    },
    {
     "ename": "TypeError",
     "evalue": "first argument must be an iterable of pandas objects, you passed an object of type \"DataFrame\"",
     "output_type": "error",
     "traceback": [
      "\u001b[0;31m---------------------------------------------------------------------------\u001b[0m",
      "\u001b[0;31mTypeError\u001b[0m                                 Traceback (most recent call last)",
      "Cell \u001b[0;32mIn[70], line 1\u001b[0m\n\u001b[0;32m----> 1\u001b[0m ds5\u001b[38;5;241m=\u001b[39m\u001b[43mpd\u001b[49m\u001b[38;5;241;43m.\u001b[39;49m\u001b[43mconcat\u001b[49m\u001b[43m(\u001b[49m\u001b[43mds4\u001b[49m\u001b[43m,\u001b[49m\u001b[43mtoc\u001b[49m\u001b[43m)\u001b[49m\n",
      "File \u001b[0;32m/usr/lib/python3.12/site-packages/pandas/util/_decorators.py:331\u001b[0m, in \u001b[0;36mdeprecate_nonkeyword_arguments.<locals>.decorate.<locals>.wrapper\u001b[0;34m(*args, **kwargs)\u001b[0m\n\u001b[1;32m    325\u001b[0m \u001b[38;5;28;01mif\u001b[39;00m \u001b[38;5;28mlen\u001b[39m(args) \u001b[38;5;241m>\u001b[39m num_allow_args:\n\u001b[1;32m    326\u001b[0m     warnings\u001b[38;5;241m.\u001b[39mwarn(\n\u001b[1;32m    327\u001b[0m         msg\u001b[38;5;241m.\u001b[39mformat(arguments\u001b[38;5;241m=\u001b[39m_format_argument_list(allow_args)),\n\u001b[1;32m    328\u001b[0m         \u001b[38;5;167;01mFutureWarning\u001b[39;00m,\n\u001b[1;32m    329\u001b[0m         stacklevel\u001b[38;5;241m=\u001b[39mfind_stack_level(),\n\u001b[1;32m    330\u001b[0m     )\n\u001b[0;32m--> 331\u001b[0m \u001b[38;5;28;01mreturn\u001b[39;00m \u001b[43mfunc\u001b[49m\u001b[43m(\u001b[49m\u001b[38;5;241;43m*\u001b[39;49m\u001b[43margs\u001b[49m\u001b[43m,\u001b[49m\u001b[43m \u001b[49m\u001b[38;5;241;43m*\u001b[39;49m\u001b[38;5;241;43m*\u001b[39;49m\u001b[43mkwargs\u001b[49m\u001b[43m)\u001b[49m\n",
      "File \u001b[0;32m/usr/lib/python3.12/site-packages/pandas/core/reshape/concat.py:368\u001b[0m, in \u001b[0;36mconcat\u001b[0;34m(objs, axis, join, ignore_index, keys, levels, names, verify_integrity, sort, copy)\u001b[0m\n\u001b[1;32m    146\u001b[0m \u001b[38;5;129m@deprecate_nonkeyword_arguments\u001b[39m(version\u001b[38;5;241m=\u001b[39m\u001b[38;5;28;01mNone\u001b[39;00m, allowed_args\u001b[38;5;241m=\u001b[39m[\u001b[38;5;124m\"\u001b[39m\u001b[38;5;124mobjs\u001b[39m\u001b[38;5;124m\"\u001b[39m])\n\u001b[1;32m    147\u001b[0m \u001b[38;5;28;01mdef\u001b[39;00m \u001b[38;5;21mconcat\u001b[39m(\n\u001b[1;32m    148\u001b[0m     objs: Iterable[NDFrame] \u001b[38;5;241m|\u001b[39m Mapping[HashableT, NDFrame],\n\u001b[0;32m   (...)\u001b[0m\n\u001b[1;32m    157\u001b[0m     copy: \u001b[38;5;28mbool\u001b[39m \u001b[38;5;241m=\u001b[39m \u001b[38;5;28;01mTrue\u001b[39;00m,\n\u001b[1;32m    158\u001b[0m ) \u001b[38;5;241m-\u001b[39m\u001b[38;5;241m>\u001b[39m DataFrame \u001b[38;5;241m|\u001b[39m Series:\n\u001b[1;32m    159\u001b[0m \u001b[38;5;250m    \u001b[39m\u001b[38;5;124;03m\"\"\"\u001b[39;00m\n\u001b[1;32m    160\u001b[0m \u001b[38;5;124;03m    Concatenate pandas objects along a particular axis.\u001b[39;00m\n\u001b[1;32m    161\u001b[0m \n\u001b[0;32m   (...)\u001b[0m\n\u001b[1;32m    366\u001b[0m \u001b[38;5;124;03m    1   3   4\u001b[39;00m\n\u001b[1;32m    367\u001b[0m \u001b[38;5;124;03m    \"\"\"\u001b[39;00m\n\u001b[0;32m--> 368\u001b[0m     op \u001b[38;5;241m=\u001b[39m \u001b[43m_Concatenator\u001b[49m\u001b[43m(\u001b[49m\n\u001b[1;32m    369\u001b[0m \u001b[43m        \u001b[49m\u001b[43mobjs\u001b[49m\u001b[43m,\u001b[49m\n\u001b[1;32m    370\u001b[0m \u001b[43m        \u001b[49m\u001b[43maxis\u001b[49m\u001b[38;5;241;43m=\u001b[39;49m\u001b[43maxis\u001b[49m\u001b[43m,\u001b[49m\n\u001b[1;32m    371\u001b[0m \u001b[43m        \u001b[49m\u001b[43mignore_index\u001b[49m\u001b[38;5;241;43m=\u001b[39;49m\u001b[43mignore_index\u001b[49m\u001b[43m,\u001b[49m\n\u001b[1;32m    372\u001b[0m \u001b[43m        \u001b[49m\u001b[43mjoin\u001b[49m\u001b[38;5;241;43m=\u001b[39;49m\u001b[43mjoin\u001b[49m\u001b[43m,\u001b[49m\n\u001b[1;32m    373\u001b[0m \u001b[43m        \u001b[49m\u001b[43mkeys\u001b[49m\u001b[38;5;241;43m=\u001b[39;49m\u001b[43mkeys\u001b[49m\u001b[43m,\u001b[49m\n\u001b[1;32m    374\u001b[0m \u001b[43m        \u001b[49m\u001b[43mlevels\u001b[49m\u001b[38;5;241;43m=\u001b[39;49m\u001b[43mlevels\u001b[49m\u001b[43m,\u001b[49m\n\u001b[1;32m    375\u001b[0m \u001b[43m        \u001b[49m\u001b[43mnames\u001b[49m\u001b[38;5;241;43m=\u001b[39;49m\u001b[43mnames\u001b[49m\u001b[43m,\u001b[49m\n\u001b[1;32m    376\u001b[0m \u001b[43m        \u001b[49m\u001b[43mverify_integrity\u001b[49m\u001b[38;5;241;43m=\u001b[39;49m\u001b[43mverify_integrity\u001b[49m\u001b[43m,\u001b[49m\n\u001b[1;32m    377\u001b[0m \u001b[43m        \u001b[49m\u001b[43mcopy\u001b[49m\u001b[38;5;241;43m=\u001b[39;49m\u001b[43mcopy\u001b[49m\u001b[43m,\u001b[49m\n\u001b[1;32m    378\u001b[0m \u001b[43m        \u001b[49m\u001b[43msort\u001b[49m\u001b[38;5;241;43m=\u001b[39;49m\u001b[43msort\u001b[49m\u001b[43m,\u001b[49m\n\u001b[1;32m    379\u001b[0m \u001b[43m    \u001b[49m\u001b[43m)\u001b[49m\n\u001b[1;32m    381\u001b[0m     \u001b[38;5;28;01mreturn\u001b[39;00m op\u001b[38;5;241m.\u001b[39mget_result()\n",
      "File \u001b[0;32m/usr/lib/python3.12/site-packages/pandas/core/reshape/concat.py:403\u001b[0m, in \u001b[0;36m_Concatenator.__init__\u001b[0;34m(self, objs, axis, join, keys, levels, names, ignore_index, verify_integrity, copy, sort)\u001b[0m\n\u001b[1;32m    389\u001b[0m \u001b[38;5;28;01mdef\u001b[39;00m \u001b[38;5;21m__init__\u001b[39m(\n\u001b[1;32m    390\u001b[0m     \u001b[38;5;28mself\u001b[39m,\n\u001b[1;32m    391\u001b[0m     objs: Iterable[NDFrame] \u001b[38;5;241m|\u001b[39m Mapping[HashableT, NDFrame],\n\u001b[0;32m   (...)\u001b[0m\n\u001b[1;32m    400\u001b[0m     sort\u001b[38;5;241m=\u001b[39m\u001b[38;5;28;01mFalse\u001b[39;00m,\n\u001b[1;32m    401\u001b[0m ) \u001b[38;5;241m-\u001b[39m\u001b[38;5;241m>\u001b[39m \u001b[38;5;28;01mNone\u001b[39;00m:\n\u001b[1;32m    402\u001b[0m     \u001b[38;5;28;01mif\u001b[39;00m \u001b[38;5;28misinstance\u001b[39m(objs, (ABCSeries, ABCDataFrame, \u001b[38;5;28mstr\u001b[39m)):\n\u001b[0;32m--> 403\u001b[0m         \u001b[38;5;28;01mraise\u001b[39;00m \u001b[38;5;167;01mTypeError\u001b[39;00m(\n\u001b[1;32m    404\u001b[0m             \u001b[38;5;124m\"\u001b[39m\u001b[38;5;124mfirst argument must be an iterable of pandas \u001b[39m\u001b[38;5;124m\"\u001b[39m\n\u001b[1;32m    405\u001b[0m             \u001b[38;5;124mf\u001b[39m\u001b[38;5;124m'\u001b[39m\u001b[38;5;124mobjects, you passed an object of type \u001b[39m\u001b[38;5;124m\"\u001b[39m\u001b[38;5;132;01m{\u001b[39;00m\u001b[38;5;28mtype\u001b[39m(objs)\u001b[38;5;241m.\u001b[39m\u001b[38;5;18m__name__\u001b[39m\u001b[38;5;132;01m}\u001b[39;00m\u001b[38;5;124m\"\u001b[39m\u001b[38;5;124m'\u001b[39m\n\u001b[1;32m    406\u001b[0m         )\n\u001b[1;32m    408\u001b[0m     \u001b[38;5;28;01mif\u001b[39;00m join \u001b[38;5;241m==\u001b[39m \u001b[38;5;124m\"\u001b[39m\u001b[38;5;124mouter\u001b[39m\u001b[38;5;124m\"\u001b[39m:\n\u001b[1;32m    409\u001b[0m         \u001b[38;5;28mself\u001b[39m\u001b[38;5;241m.\u001b[39mintersect \u001b[38;5;241m=\u001b[39m \u001b[38;5;28;01mFalse\u001b[39;00m\n",
      "\u001b[0;31mTypeError\u001b[0m: first argument must be an iterable of pandas objects, you passed an object of type \"DataFrame\""
     ]
    }
   ],
   "source": [
    "ds5=pd.concat(ds4,toc)"
   ]
  },
  {
   "cell_type": "code",
   "execution_count": null,
   "metadata": {
    "metadata": {}
   },
   "outputs": [],
   "source": [
    "ds4"
   ]
  },
  {
   "cell_type": "code",
   "execution_count": null,
   "metadata": {
    "metadata": {}
   },
   "outputs": [],
   "source": [
    "ds4[\"person_2\"][3]=35  # to change particular element."
   ]
  },
  {
   "cell_type": "code",
   "execution_count": null,
   "metadata": {
    "metadata": {}
   },
   "outputs": [],
   "source": [
    "ds5"
   ]
  },
  {
   "cell_type": "code",
   "execution_count": null,
   "metadata": {
    "metadata": {}
   },
   "outputs": [],
   "source": [
    "ds4[ds4<35]  # to check values under condition."
   ]
  },
  {
   "cell_type": "code",
   "execution_count": null,
   "metadata": {
    "metadata": {}
   },
   "outputs": [],
   "source": [
    "ds4.idxmax()"
   ]
  },
  {
   "cell_type": "code",
   "execution_count": null,
   "metadata": {
    "metadata": {}
   },
   "outputs": [],
   "source": [
    "ds4.idxmin()          # to check minimum in column"
   ]
  },
  {
   "cell_type": "code",
   "execution_count": null,
   "metadata": {
    "metadata": {}
   },
   "outputs": [],
   "source": [
    "me=ds4.mean().T  # T => Transpose"
   ]
  },
  {
   "cell_type": "code",
   "execution_count": null,
   "metadata": {
    "metadata": {}
   },
   "outputs": [],
   "source": [
    "ds4.loc[\"mean\"]=me"
   ]
  },
  {
   "cell_type": "code",
   "execution_count": null,
   "metadata": {
    "metadata": {}
   },
   "outputs": [],
   "source": [
    "ds4"
   ]
  },
  {
   "cell_type": "code",
   "execution_count": null,
   "metadata": {
    "metadata": {}
   },
   "outputs": [],
   "source": [
    "ds4.rank()"
   ]
  },
  {
   "cell_type": "code",
   "execution_count": null,
   "metadata": {
    "metadata": {}
   },
   "outputs": [],
   "source": [
    "ds4"
   ]
  },
  {
   "cell_type": "code",
   "execution_count": null,
   "metadata": {
    "metadata": {}
   },
   "outputs": [],
   "source": [
    "ds4.sort_index()"
   ]
  },
  {
   "cell_type": "code",
   "execution_count": null,
   "metadata": {
    "metadata": {}
   },
   "outputs": [],
   "source": [
    "ds4.index"
   ]
  },
  {
   "cell_type": "code",
   "execution_count": null,
   "metadata": {
    "metadata": {}
   },
   "outputs": [],
   "source": [
    "ds4[\"person_6\"].min()"
   ]
  },
  {
   "cell_type": "code",
   "execution_count": null,
   "metadata": {
    "metadata": {}
   },
   "outputs": [],
   "source": [
    "ds4[\"person_6\"].max()"
   ]
  },
  {
   "cell_type": "code",
   "execution_count": null,
   "metadata": {
    "metadata": {}
   },
   "outputs": [],
   "source": [
    "ds3[\"person_4\"].idxmax()"
   ]
  },
  {
   "cell_type": "markdown",
   "metadata": {
    "metadata": {}
   },
   "source": [
    "To understand correlation statistics through an example, we will calculate the Pearson correlation coefficient between two sets of data and explain how the correlation is derived using the sum of their deviations from the mean. Let's break down the steps and calculations involved.\n",
    "\n",
    "### Data\n",
    "Consider the following two sets of data:\n",
    "\n",
    "- \\( X = [1, 2, 3, 4, 5] \\)\n",
    "- \\( Y = [2, 4, 5, 4, 5] \\)\n",
    "\n",
    "### Steps to Calculate Pearson Correlation Coefficient\n",
    "\n",
    "1. **Calculate the Mean of X and Y:** <br>\n",
    "   $\n",
    "   \\text{mean}(X) = \\frac{1+2+3+4+5}{5} = 3\n",
    "   $<br>\n",
    "   $\n",
    "   \\text{mean}(Y) = \\frac{2+4+5+4+5}{5} = 4\n",
    "   $\n",
    "\n",
    "2. **Calculate the Deviations from the Mean:**<br>\n",
    "   $\n",
    "   X' = X - \\text{mean}(X) = [1-3, 2-3, 3-3, 4-3, 5-3] = [-2, -1, 0, 1, 2]\n",
    "   $<br>\n",
    "   $\n",
    "   Y' = Y - \\text{mean}(Y) = [2-4, 4-4, 5-4, 4-4, 5-4] = [-2, 0, 1, 0, 1]\n",
    "   $\n",
    "\n",
    "3. **Calculate the Sum of the Products of Deviations:**<br>\n",
    "   $\n",
    "   \\sum (X'Y') = (-2 \\cdot -2) + (-1 \\cdot 0) + (0 \\cdot 1) + (1 \\cdot 0) + (2 \\cdot 1) = 4 + 0 + 0 + 0 + 2 = 6\n",
    "   $\n",
    "\n",
    "4. **Calculate the Sum of the Squared Deviations:**<br>\n",
    "   $\n",
    "   \\sum (X'^2) = (-2)^2 + (-1)^2 + 0^2 + 1^2 + 2^2 = 4 + 1 + 0 + 1 + 4 = 10\n",
    "   $<br>\n",
    "   $\n",
    "   \\sum (Y'^2) = (-2)^2 + 0^2 + 1^2 + 0^2 + 1^2 = 4 + 0 + 1 + 0 + 1 = 6\n",
    "   $\n",
    "\n",
    "5. **Calculate the Pearson Correlation Coefficient:**<br>\n",
    "   $\n",
    "   r = \\frac{\\sum (X'Y')}{\\sqrt{\\sum (X'^2) \\cdot \\sum (Y'^2)}} = \\frac{6}{\\sqrt{10 \\cdot 6}} = \\frac{6}{\\sqrt{60}} = \\frac{6}{\\sqrt{60}} = \\frac{6}{7.746} \\approx 0.7746\n",
    "   $\n",
    "\n",
    "### Interpretation\n",
    "\n",
    "The Pearson correlation coefficient $r \\approx 0.7746$ indicates a strong positive linear relationship between the variables  X and Y.\n",
    "\n"
   ]
  },
  {
   "cell_type": "code",
   "execution_count": null,
   "metadata": {
    "metadata": {}
   },
   "outputs": [],
   "source": [
    "ds4[\"person_1\"].corr(ds4[\"person_4\"])"
   ]
  },
  {
   "cell_type": "code",
   "execution_count": null,
   "metadata": {
    "metadata": {}
   },
   "outputs": [],
   "source": [
    "ds3"
   ]
  },
  {
   "cell_type": "code",
   "execution_count": null,
   "metadata": {
    "metadata": {}
   },
   "outputs": [],
   "source": [
    "ds3.groupby(\"Product\").groups"
   ]
  },
  {
   "cell_type": "code",
   "execution_count": null,
   "metadata": {
    "metadata": {}
   },
   "outputs": [],
   "source": [
    "ds3.groupby([\"Product\",\"Region\"]).groups"
   ]
  },
  {
   "cell_type": "code",
   "execution_count": null,
   "metadata": {
    "metadata": {}
   },
   "outputs": [],
   "source": [
    "ds4.describe()"
   ]
  },
  {
   "cell_type": "code",
   "execution_count": null,
   "metadata": {
    "metadata": {}
   },
   "outputs": [],
   "source": [
    "import io"
   ]
  },
  {
   "cell_type": "code",
   "execution_count": null,
   "metadata": {
    "metadata": {}
   },
   "outputs": [],
   "source": [
    "dir(io)"
   ]
  },
  {
   "cell_type": "code",
   "execution_count": 71,
   "metadata": {
    "metadata": {}
   },
   "outputs": [],
   "source": [
    "import requests as rq"
   ]
  },
  {
   "cell_type": "code",
   "execution_count": 72,
   "metadata": {
    "metadata": {}
   },
   "outputs": [],
   "source": [
    "header = {\n",
    "  \"User-Agent\": \"Mozilla/5.0 (X11; Linux x86_64) AppleWebKit/537.36 (KHTML, like Gecko) Chrome/50.0.2661.75 Safari/537.36\",\n",
    "  \"X-Requested-With\": \"XMLHttpRequest\"\n",
    "}"
   ]
  },
  {
   "cell_type": "code",
   "execution_count": 73,
   "metadata": {
    "metadata": {}
   },
   "outputs": [],
   "source": [
    "wd=rq.get(\"https://www.spaceweatherlive.com/\",headers=header)"
   ]
  },
  {
   "cell_type": "code",
   "execution_count": 74,
   "metadata": {
    "metadata": {}
   },
   "outputs": [],
   "source": [
    "wd=pd.read_html(wd.text)"
   ]
  },
  {
   "cell_type": "code",
   "execution_count": 75,
   "metadata": {
    "metadata": {}
   },
   "outputs": [
    {
     "data": {
      "text/plain": [
       "[  Unnamed: 0  Min.  Max.\n",
       " 0  Wednesday  Kp1+  Kp3-\n",
       " 1   Thursday  Kp1+  Kp3-\n",
       " 2     Friday  Kp3-  Kp4-,\n",
       "                      0   1\n",
       " 0  Northern hemisphere NaN\n",
       " 1  Southern hemisphere NaN,\n",
       "    Region  Number of sunspots  Class Magn. Class Spot\n",
       " 0    3674                   1          NaN        HSX\n",
       " 1    3679                  13          NaN        EKI\n",
       " 2    3682                   2          NaN        AXX\n",
       " 3    3683                   4          NaN        DSO\n",
       " 4    3684                   8          NaN        DAO\n",
       " 5    3685                  17          NaN        EHC\n",
       " 6    3686                   5          NaN        CAO\n",
       " 7    3687                   1          NaN        AXX\n",
       " 8    3688                   3          NaN        BXO\n",
       " 9    3689                   3          NaN        CRO,\n",
       "                          0     1     2\n",
       " 0           Sunspot number   146    22\n",
       " 1              New regions     2     2\n",
       " 2  10.7cm Solar Radio Flux   191    -9\n",
       " 3      Carrington Rotation  2284  2284,\n",
       "                      0    1\n",
       " 0  C-class solar flare  99%\n",
       " 1  M-class solar flare  55%\n",
       " 2  X-class solar flare  10%,\n",
       "                         0           1         2\n",
       " 0            Last X-flare  2024/05/15      X2.9\n",
       " 1            Last M-flare  2024/05/21      M1.9\n",
       " 2  Last geomagnetic storm  2024/05/17  Kp6 (G2),\n",
       "        Spotless days Spotless days.1\n",
       " 0  Last spotless day      2022/06/08,\n",
       "   Monthly mean Sunspot Number Monthly mean Sunspot Number.1\n",
       " 0                  April 2024                   136.5 +31.6\n",
       " 1                    May 2024                   155.9 +19.4\n",
       " 2                Last 30 days                   158.9 +32.9,\n",
       "    Solar flares  Solar flares.1 Solar flares.2\n",
       " 0             1            2013          M7.24\n",
       " 1             2            2023           M1.9\n",
       " 2             3            2021           M1.4\n",
       " 3             4            2002          M1.39\n",
       " 4             5            2021           M1.1,\n",
       "    Unnamed: 0  Unnamed: 1  Ap   G\n",
       " 0           1        1983  51  G2\n",
       " 1           2        1992  50  G2\n",
       " 2           3        1946  49  G2\n",
       " 3           4        1940  31  G2\n",
       " 4           5        1979  36  G1]"
      ]
     },
     "execution_count": 75,
     "metadata": {},
     "output_type": "execute_result"
    }
   ],
   "source": [
    "wd[:]"
   ]
  },
  {
   "cell_type": "code",
   "execution_count": null,
   "metadata": {},
   "outputs": [],
   "source": []
  }
 ],
 "metadata": {
  "kernelspec": {
   "display_name": "Python 3",
   "language": "python",
   "name": "python3"
  },
  "language_info": {
   "codemirror_mode": {
    "name": "ipython",
    "version": 3
   },
   "file_extension": ".py",
   "mimetype": "text/x-python",
   "name": "python",
   "nbconvert_exporter": "python",
   "pygments_lexer": "ipython3",
   "version": "3.12.3"
  }
 },
 "nbformat": 4,
 "nbformat_minor": 2
}
